{
  "nbformat": 4,
  "nbformat_minor": 0,
  "metadata": {
    "colab": {
      "provenance": [],
      "authorship_tag": "ABX9TyO8e2W32jYK3ZxDoHLhz/Ee",
      "include_colab_link": true
    },
    "kernelspec": {
      "name": "python3",
      "display_name": "Python 3"
    },
    "language_info": {
      "name": "python"
    }
  },
  "cells": [
    {
      "cell_type": "markdown",
      "metadata": {
        "id": "view-in-github",
        "colab_type": "text"
      },
      "source": [
        "<a href=\"https://colab.research.google.com/github/Branis333/Dysarthric_Speech_Classification/blob/main/dysarthria.ipynb\" target=\"_parent\"><img src=\"https://colab.research.google.com/assets/colab-badge.svg\" alt=\"Open In Colab\"/></a>"
      ]
    },
    {
      "cell_type": "code",
      "execution_count": 2,
      "metadata": {
        "colab": {
          "base_uri": "https://localhost:8080/"
        },
        "id": "9BaBIo6r3qkl",
        "outputId": "55511b93-3bc7-4f34-d77a-8958d28f08ec"
      },
      "outputs": [
        {
          "output_type": "stream",
          "name": "stdout",
          "text": [
            "TensorFlow version: 2.18.0\n",
            "Project: Dysarthric Speech Classification using Machine Learning Optimization Techniques\n",
            "================================================================================\n",
            "Contents of /content directory:\n",
            "total 52\n",
            "drwxr-xr-x 1 root root  4096 Jun 16 13:37 .\n",
            "drwxr-xr-x 1 root root  4096 Jun 16 13:13 ..\n",
            "drwxr-xr-x 4 root root  4096 Jun 12 13:35 .config\n",
            "drwxr-xr-x 2 root root  4096 Jun 16 13:32 .ipynb_checkpoints\n",
            "drwxr-xr-x 2 root root 20480 Jun 16 13:34 M_Con\n",
            "drwxr-xr-x 2 root root  4096 Jun 16 13:36 M_Dys\n",
            "drwxr-xr-x 1 root root  4096 Jun 16 13:20 sample_data\n",
            "drwxr-xr-x 2 root root  4096 Jun 16 13:37 saved_models\n",
            "Found 329 wav files in /content/M_Con\n",
            "Sample files: ['/content/M_Con/wav_arrayMic_MC01S01_0168.wav', '/content/M_Con/wav_arrayMic_MC01S01_0153.wav', '/content/M_Con/wav_arrayMic_MC01S01_0070.wav']\n",
            "Found 100 wav files in /content/M_Dys\n",
            "Sample files: ['/content/M_Dys/wav_arrayMic_M01S01_0090.wav', '/content/M_Dys/wav_arrayMic_M01S01_0016.wav', '/content/M_Dys/wav_arrayMic_M01S01_0005.wav']\n",
            "Found 329 control files\n",
            "Found 100 dysarthric files\n",
            "Dataset: 100 total files (50 control, 50 dysarthric)\n",
            "Labels distribution: Control (0): 50, Dysarthric (1): 50\n"
          ]
        }
      ],
      "source": [
        "# Cell 1: Project Setup and Data Loading\n",
        "import os\n",
        "import librosa\n",
        "import numpy as np\n",
        "import pandas as pd\n",
        "from pathlib import Path\n",
        "import tensorflow as tf\n",
        "import gc\n",
        "from matplotlib import pyplot as plt\n",
        "from sklearn.model_selection import train_test_split, StratifiedKFold\n",
        "from sklearn.preprocessing import StandardScaler\n",
        "from sklearn.linear_model import LogisticRegression\n",
        "from sklearn.svm import SVC\n",
        "from sklearn.ensemble import RandomForestClassifier\n",
        "from sklearn.metrics import accuracy_score, precision_score, recall_score, f1_score, classification_report, confusion_matrix\n",
        "from tensorflow.keras.models import Sequential\n",
        "from tensorflow.keras.layers import Conv2D, Dense, Flatten, Dropout, MaxPooling2D, BatchNormalization\n",
        "from tensorflow.keras.regularizers import l1, l2, l1_l2\n",
        "from tensorflow.keras.optimizers import Adam, RMSprop, SGD\n",
        "from tensorflow.keras.callbacks import EarlyStopping, ModelCheckpoint\n",
        "import warnings\n",
        "warnings.filterwarnings('ignore')\n",
        "\n",
        "print(f\"TensorFlow version: {tf.__version__}\")\n",
        "print(\"Project: Dysarthric Speech Classification using Machine Learning Optimization Techniques\")\n",
        "print(\"=\" * 80)\n",
        "\n",
        "# Create directories for saving models\n",
        "os.makedirs('saved_models', exist_ok=True)\n",
        "\n",
        "# First, let's check what's actually in the /content directory\n",
        "print(\"Contents of /content directory:\")\n",
        "!ls -la /content/\n",
        "\n",
        "# Define correct paths for Google Colab (use forward slashes and /content/)\n",
        "CONTROL_PATH = \"/content/M_Con\"      # Control files (healthy speech)\n",
        "DYSARTHRIC_PATH = \"/content/M_Dys\"   # Dysarthric files (impaired speech)\n",
        "\n",
        "def get_file_list(directory):\n",
        "    \"\"\"Get list of wav files from directory\"\"\"\n",
        "    if not os.path.exists(directory):\n",
        "        print(f\"Directory not found: {directory}\")\n",
        "        print(f\"Available directories in /content/:\")\n",
        "        for item in os.listdir('/content/'):\n",
        "            if os.path.isdir(os.path.join('/content/', item)):\n",
        "                print(f\"  - {item}\")\n",
        "        return []\n",
        "\n",
        "    # Recursively search for wav files in subdirectories\n",
        "    wav_files = []\n",
        "    for root, dirs, files in os.walk(directory):\n",
        "        for file in files:\n",
        "            if file.endswith('.wav'):\n",
        "                wav_files.append(os.path.join(root, file))\n",
        "\n",
        "    print(f\"Found {len(wav_files)} wav files in {directory}\")\n",
        "    if len(wav_files) > 0:\n",
        "        print(f\"Sample files: {wav_files[:3]}\")  # Show first 3 files\n",
        "\n",
        "    return wav_files\n",
        "\n",
        "# Load file lists\n",
        "control_files = get_file_list(CONTROL_PATH)\n",
        "dysarthric_files = get_file_list(DYSARTHRIC_PATH)\n",
        "\n",
        "print(f\"Found {len(control_files)} control files\")\n",
        "print(f\"Found {len(dysarthric_files)} dysarthric files\")\n",
        "\n",
        "# Use 50 files per class for the assignment\n",
        "MAX_FILES_PER_CLASS = 50\n",
        "control_files = control_files[:MAX_FILES_PER_CLASS]\n",
        "dysarthric_files = dysarthric_files[:MAX_FILES_PER_CLASS]\n",
        "\n",
        "# Create labels (0 for control/healthy, 1 for dysarthric/impaired)\n",
        "all_files = control_files + dysarthric_files\n",
        "all_labels = [0] * len(control_files) + [1] * len(dysarthric_files)\n",
        "\n",
        "print(f\"Dataset: {len(all_files)} total files ({len(control_files)} control, {len(dysarthric_files)} dysarthric)\")\n",
        "\n",
        "# Verify the data distribution\n",
        "print(f\"Labels distribution: Control (0): {all_labels.count(0)}, Dysarthric (1): {all_labels.count(1)}\")"
      ]
    },
    {
      "cell_type": "code",
      "source": [
        "# Cell 2: Feature Extraction Functions\n",
        "def load_wav_16k_mono(filename):\n",
        "    \"\"\"Load a WAV file, convert to float tensor, resample to 16kHz mono\"\"\"\n",
        "    audio, sr = librosa.load(filename, sr=16000, mono=True, duration=2.0)\n",
        "    wav = tf.constant(audio, dtype=tf.float32)\n",
        "    return wav\n",
        "\n",
        "def extract_features_for_ml(file_path):\n",
        "    \"\"\"Extract traditional ML features from audio file\"\"\"\n",
        "    try:\n",
        "        # Load audio\n",
        "        audio, sr = librosa.load(file_path, sr=16000, mono=True, duration=2.0)\n",
        "\n",
        "        # Extract features\n",
        "        features = []\n",
        "\n",
        "        # MFCC features\n",
        "        mfccs = librosa.feature.mfcc(y=audio, sr=sr, n_mfcc=13)\n",
        "        features.extend(np.mean(mfccs, axis=1))\n",
        "        features.extend(np.std(mfccs, axis=1))\n",
        "\n",
        "        # Spectral features\n",
        "        spectral_centroids = librosa.feature.spectral_centroid(y=audio, sr=sr)\n",
        "        features.append(np.mean(spectral_centroids))\n",
        "        features.append(np.std(spectral_centroids))\n",
        "\n",
        "        # Zero crossing rate\n",
        "        zcr = librosa.feature.zero_crossing_rate(audio)\n",
        "        features.append(np.mean(zcr))\n",
        "        features.append(np.std(zcr))\n",
        "\n",
        "        # Chroma features\n",
        "        chroma = librosa.feature.chroma_stft(y=audio, sr=sr)\n",
        "        features.extend(np.mean(chroma, axis=1))\n",
        "\n",
        "        return np.array(features)\n",
        "    except Exception as e:\n",
        "        print(f\"Error extracting features from {file_path}: {e}\")\n",
        "        return np.zeros(40)  # Return zeros if error\n",
        "\n",
        "def preprocess_audio_for_nn(file_path, label):\n",
        "    \"\"\"Convert audio to spectrogram for neural network\"\"\"\n",
        "    wav = load_wav_16k_mono(file_path)\n",
        "\n",
        "    # Fixed length (32000 samples = 2 seconds at 16kHz)\n",
        "    if len(wav) > 32000:\n",
        "        wav = wav[:32000]\n",
        "    else:\n",
        "        padding = 32000 - len(wav)\n",
        "        wav = tf.concat([tf.zeros(padding, dtype=tf.float32), wav], 0)\n",
        "\n",
        "    # Create spectrogram\n",
        "    spectrogram = tf.signal.stft(wav, frame_length=512, frame_step=256)\n",
        "    spectrogram = tf.abs(spectrogram)\n",
        "    spectrogram = spectrogram[::2, ::2]  # Downsample\n",
        "    spectrogram = tf.expand_dims(spectrogram, axis=2)\n",
        "\n",
        "    return spectrogram, label\n",
        "\n",
        "print(\"Feature extraction functions defined successfully!\")"
      ],
      "metadata": {
        "colab": {
          "base_uri": "https://localhost:8080/"
        },
        "id": "ifEhLPhf9gJK",
        "outputId": "7d066678-c627-4cef-8e01-ff22fa383d8f"
      },
      "execution_count": 3,
      "outputs": [
        {
          "output_type": "stream",
          "name": "stdout",
          "text": [
            "Feature extraction functions defined successfully!\n"
          ]
        }
      ]
    },
    {
      "cell_type": "code",
      "source": [
        "# Cell 3: Data Preparation\n",
        "print(\"Preparing data for ML models...\")\n",
        "\n",
        "# Extract features for traditional ML algorithms\n",
        "X_features = []\n",
        "for file_path in all_files:\n",
        "    features = extract_features_for_ml(file_path)\n",
        "    X_features.append(features)\n",
        "\n",
        "X_features = np.array(X_features)\n",
        "y_labels = np.array(all_labels)\n",
        "\n",
        "print(f\"Feature matrix shape: {X_features.shape}\")\n",
        "print(f\"Labels shape: {y_labels.shape}\")\n",
        "\n",
        "# Split data into train, validation, and test sets\n",
        "X_temp, X_test, y_temp, y_test = train_test_split(\n",
        "    X_features, y_labels, test_size=0.2, random_state=42, stratify=y_labels\n",
        ")\n",
        "\n",
        "X_train, X_val, y_train, y_val = train_test_split(\n",
        "    X_temp, y_temp, test_size=0.25, random_state=42, stratify=y_temp\n",
        ")\n",
        "\n",
        "print(f\"Training set: {X_train.shape[0]} samples\")\n",
        "print(f\"Validation set: {X_val.shape[0]} samples\")\n",
        "print(f\"Test set: {X_test.shape[0]} samples\")\n",
        "\n",
        "# Scale features for ML algorithms\n",
        "scaler = StandardScaler()\n",
        "X_train_scaled = scaler.fit_transform(X_train)\n",
        "X_val_scaled = scaler.transform(X_val)\n",
        "X_test_scaled = scaler.transform(X_test)\n",
        "\n",
        "# Prepare file lists for neural network\n",
        "files_temp, files_test, labels_temp, labels_test = train_test_split(\n",
        "    all_files, all_labels, test_size=0.2, random_state=42, stratify=all_labels\n",
        ")\n",
        "\n",
        "files_train, files_val, labels_train, labels_val = train_test_split(\n",
        "    files_temp, labels_temp, test_size=0.25, random_state=42, stratify=labels_temp\n",
        ")\n",
        "\n",
        "print(\"Data preparation completed!\")"
      ],
      "metadata": {
        "colab": {
          "base_uri": "https://localhost:8080/"
        },
        "id": "LfCfK0fM9lp_",
        "outputId": "a46f01e0-0b06-4cad-a3c7-2a6e5815e94c"
      },
      "execution_count": 4,
      "outputs": [
        {
          "output_type": "stream",
          "name": "stdout",
          "text": [
            "Preparing data for ML models...\n",
            "Feature matrix shape: (100, 42)\n",
            "Labels shape: (100,)\n",
            "Training set: 60 samples\n",
            "Validation set: 20 samples\n",
            "Test set: 20 samples\n",
            "Data preparation completed!\n"
          ]
        }
      ]
    },
    {
      "cell_type": "code",
      "source": [
        "# Cell 4: Model 1 - Classical ML (Logistic Regression with Hyperparameter Tuning)\n",
        "print(\"Training Model 1: Optimized Logistic Regression\")\n",
        "print(\"=\" * 50)\n",
        "\n",
        "from sklearn.model_selection import GridSearchCV\n",
        "\n",
        "# Hyperparameter tuning for Logistic Regression\n",
        "param_grid = {\n",
        "    'C': [0.001, 0.01, 0.1, 1, 10, 100],\n",
        "    'penalty': ['l1', 'l2'],\n",
        "    'solver': ['liblinear'],\n",
        "    'max_iter': [1000]\n",
        "}\n",
        "\n",
        "# Grid search with cross-validation\n",
        "lr_grid = GridSearchCV(\n",
        "    LogisticRegression(random_state=42),\n",
        "    param_grid,\n",
        "    cv=5,\n",
        "    scoring='f1',\n",
        "    n_jobs=-1,\n",
        "    verbose=1\n",
        ")\n",
        "\n",
        "lr_grid.fit(X_train_scaled, y_train)\n",
        "\n",
        "# Best model\n",
        "best_lr = lr_grid.best_estimator_\n",
        "print(f\"Best parameters: {lr_grid.best_params_}\")\n",
        "\n",
        "# Train and evaluate\n",
        "y_train_pred_lr = best_lr.predict(X_train_scaled)\n",
        "y_val_pred_lr = best_lr.predict(X_val_scaled)\n",
        "y_test_pred_lr = best_lr.predict(X_test_scaled)\n",
        "\n",
        "# Calculate metrics\n",
        "train_acc_lr = accuracy_score(y_train, y_train_pred_lr)\n",
        "val_acc_lr = accuracy_score(y_val, y_val_pred_lr)\n",
        "test_acc_lr = accuracy_score(y_test, y_test_pred_lr)\n",
        "\n",
        "train_f1_lr = f1_score(y_train, y_train_pred_lr)\n",
        "val_f1_lr = f1_score(y_val, y_val_pred_lr)\n",
        "test_f1_lr = f1_score(y_test, y_test_pred_lr)\n",
        "\n",
        "train_precision_lr = precision_score(y_train, y_train_pred_lr)\n",
        "val_precision_lr = precision_score(y_val, y_val_pred_lr)\n",
        "test_precision_lr = precision_score(y_test, y_test_pred_lr)\n",
        "\n",
        "train_recall_lr = recall_score(y_train, y_train_pred_lr)\n",
        "val_recall_lr = recall_score(y_val, y_val_pred_lr)\n",
        "test_recall_lr = recall_score(y_test, y_test_pred_lr)\n",
        "\n",
        "print(f\"\\nLogistic Regression Results:\")\n",
        "print(f\"Training - Acc: {train_acc_lr:.3f}, F1: {train_f1_lr:.3f}, Precision: {train_precision_lr:.3f}, Recall: {train_recall_lr:.3f}\")\n",
        "print(f\"Validation - Acc: {val_acc_lr:.3f}, F1: {val_f1_lr:.3f}, Precision: {val_precision_lr:.3f}, Recall: {val_recall_lr:.3f}\")\n",
        "print(f\"Test - Acc: {test_acc_lr:.3f}, F1: {test_f1_lr:.3f}, Precision: {test_precision_lr:.3f}, Recall: {test_recall_lr:.3f}\")\n",
        "\n",
        "# Save model\n",
        "import joblib\n",
        "joblib.dump(best_lr, 'saved_models/optimized_logistic_regression.pkl')\n",
        "print(\"Model saved as 'optimized_logistic_regression.pkl'\")"
      ],
      "metadata": {
        "colab": {
          "base_uri": "https://localhost:8080/"
        },
        "id": "4WRyrl_Z9wN1",
        "outputId": "57e9c845-0930-48bf-b4fa-a7a3dc2a8a46"
      },
      "execution_count": 5,
      "outputs": [
        {
          "output_type": "stream",
          "name": "stdout",
          "text": [
            "Training Model 1: Optimized Logistic Regression\n",
            "==================================================\n",
            "Fitting 5 folds for each of 12 candidates, totalling 60 fits\n",
            "Best parameters: {'C': 1, 'max_iter': 1000, 'penalty': 'l2', 'solver': 'liblinear'}\n",
            "\n",
            "Logistic Regression Results:\n",
            "Training - Acc: 0.983, F1: 0.983, Precision: 1.000, Recall: 0.967\n",
            "Validation - Acc: 1.000, F1: 1.000, Precision: 1.000, Recall: 1.000\n",
            "Test - Acc: 0.950, F1: 0.947, Precision: 1.000, Recall: 0.900\n",
            "Model saved as 'optimized_logistic_regression.pkl'\n"
          ]
        }
      ]
    },
    {
      "cell_type": "code",
      "source": [
        "# Cell 5: Neural Network Data Generator\n",
        "def create_dataset_generator(files, labels, batch_size=8):\n",
        "    \"\"\"Create dataset using generator for neural networks\"\"\"\n",
        "\n",
        "    def data_generator():\n",
        "        for file_path, label in zip(files, labels):\n",
        "            try:\n",
        "                spectrogram, processed_label = preprocess_audio_for_nn(file_path, label)\n",
        "                yield spectrogram.numpy(), float(processed_label)\n",
        "            except Exception as e:\n",
        "                print(f\"Error processing {file_path}: {e}\")\n",
        "                continue\n",
        "\n",
        "    # Get sample to determine output signature\n",
        "    sample_spec, sample_label = preprocess_audio_for_nn(files[0], labels[0])\n",
        "\n",
        "    dataset = tf.data.Dataset.from_generator(\n",
        "        data_generator,\n",
        "        output_signature=(\n",
        "            tf.TensorSpec(shape=sample_spec.shape, dtype=tf.float32),\n",
        "            tf.TensorSpec(shape=(), dtype=tf.float32)\n",
        "        )\n",
        "    )\n",
        "\n",
        "    dataset = dataset.batch(batch_size)\n",
        "    dataset = dataset.prefetch(tf.data.AUTOTUNE)\n",
        "\n",
        "    return dataset\n",
        "\n",
        "# Create datasets for neural networks\n",
        "train_dataset = create_dataset_generator(files_train, labels_train, batch_size=8)\n",
        "val_dataset = create_dataset_generator(files_val, labels_val, batch_size=8)\n",
        "test_dataset = create_dataset_generator(files_test, labels_test, batch_size=8)\n",
        "\n",
        "# Get input shape\n",
        "sample_batch = next(iter(train_dataset))\n",
        "input_shape = sample_batch[0].shape[1:]\n",
        "print(f\"Input shape for neural networks: {input_shape}\")"
      ],
      "metadata": {
        "colab": {
          "base_uri": "https://localhost:8080/"
        },
        "id": "VJONbh_W-ASy",
        "outputId": "679d4d25-5bfc-4047-8eaa-d1c3923d21c8"
      },
      "execution_count": 6,
      "outputs": [
        {
          "output_type": "stream",
          "name": "stdout",
          "text": [
            "Input shape for neural networks: (62, 129, 1)\n"
          ]
        }
      ]
    },
    {
      "cell_type": "code",
      "source": [
        "# Cell 6: Model 2 - Simple Neural Network (No Optimization)\n",
        "print(\"Training Model 2: Simple Neural Network (No Optimization)\")\n",
        "print(\"=\" * 60)\n",
        "\n",
        "# Simple model without any optimization techniques\n",
        "model_simple = Sequential([\n",
        "    Conv2D(16, (3,3), activation='relu', input_shape=input_shape),\n",
        "    Conv2D(32, (3,3), activation='relu'),\n",
        "    Flatten(),\n",
        "    Dense(64, activation='relu'),\n",
        "    Dense(1, activation='sigmoid')\n",
        "])\n",
        "\n",
        "# Compile with default settings (no specific optimizer, no regularization)\n",
        "model_simple.compile(\n",
        "    optimizer='adam',  # Default Adam optimizer\n",
        "    loss='binary_crossentropy',\n",
        "    metrics=['accuracy', 'precision', 'recall']\n",
        ")\n",
        "\n",
        "print(model_simple.summary())\n",
        "\n",
        "# Train without early stopping\n",
        "history_simple = model_simple.fit(\n",
        "    train_dataset,\n",
        "    epochs=10,  # Fixed epochs\n",
        "    validation_data=val_dataset,\n",
        "    verbose=1\n",
        ")\n",
        "\n",
        "# Evaluate the model\n",
        "train_loss_simple, train_acc_simple, train_prec_simple, train_rec_simple = model_simple.evaluate(train_dataset, verbose=0)\n",
        "val_loss_simple, val_acc_simple, val_prec_simple, val_rec_simple = model_simple.evaluate(val_dataset, verbose=0)\n",
        "test_loss_simple, test_acc_simple, test_prec_simple, test_rec_simple = model_simple.evaluate(test_dataset, verbose=0)\n",
        "\n",
        "# Calculate F1 scores\n",
        "train_f1_simple = 2 * (train_prec_simple * train_rec_simple) / (train_prec_simple + train_rec_simple + 1e-7)\n",
        "val_f1_simple = 2 * (val_prec_simple * val_rec_simple) / (val_prec_simple + val_rec_simple + 1e-7)\n",
        "test_f1_simple = 2 * (test_prec_simple * test_rec_simple) / (test_prec_simple + test_rec_simple + 1e-7)\n",
        "\n",
        "print(f\"\\nSimple Neural Network Results:\")\n",
        "print(f\"Training - Acc: {train_acc_simple:.3f}, F1: {train_f1_simple:.3f}, Precision: {train_prec_simple:.3f}, Recall: {train_rec_simple:.3f}\")\n",
        "print(f\"Validation - Acc: {val_acc_simple:.3f}, F1: {val_f1_simple:.3f}, Precision: {val_prec_simple:.3f}, Recall: {val_rec_simple:.3f}\")\n",
        "print(f\"Test - Acc: {test_acc_simple:.3f}, F1: {test_f1_simple:.3f}, Precision: {test_prec_simple:.3f}, Recall: {test_rec_simple:.3f}\")\n",
        "\n",
        "# Save model\n",
        "model_simple.save('saved_models/simple_neural_network.h5')\n",
        "print(\"Model saved as 'simple_neural_network.h5'\")\n",
        "\n",
        "# Store results for table\n",
        "results_table = []\n",
        "results_table.append({\n",
        "    'Instance': 'Instance 1 (Simple)',\n",
        "    'Optimizer': 'Adam (default)',\n",
        "    'Regularizer': 'None',\n",
        "    'Epochs': 10,\n",
        "    'Early_Stopping': 'No',\n",
        "    'Layers': 5,\n",
        "    'Learning_Rate': 0.001,\n",
        "    'Accuracy': f\"{test_acc_simple:.3f}\",\n",
        "    'F1_Score': f\"{test_f1_simple:.3f}\",\n",
        "    'Precision': f\"{test_prec_simple:.3f}\",\n",
        "    'Recall': f\"{test_rec_simple:.3f}\",\n",
        "    'Loss': f\"{test_loss_simple:.3f}\"\n",
        "})"
      ],
      "metadata": {
        "colab": {
          "base_uri": "https://localhost:8080/",
          "height": 863
        },
        "id": "OXRzptSZ-bXy",
        "outputId": "502aa752-78ea-4a8f-f993-2433de464ab5"
      },
      "execution_count": 7,
      "outputs": [
        {
          "output_type": "stream",
          "name": "stdout",
          "text": [
            "Training Model 2: Simple Neural Network (No Optimization)\n",
            "============================================================\n"
          ]
        },
        {
          "output_type": "display_data",
          "data": {
            "text/plain": [
              "\u001b[1mModel: \"sequential\"\u001b[0m\n"
            ],
            "text/html": [
              "<pre style=\"white-space:pre;overflow-x:auto;line-height:normal;font-family:Menlo,'DejaVu Sans Mono',consolas,'Courier New',monospace\"><span style=\"font-weight: bold\">Model: \"sequential\"</span>\n",
              "</pre>\n"
            ]
          },
          "metadata": {}
        },
        {
          "output_type": "display_data",
          "data": {
            "text/plain": [
              "┏━━━━━━━━━━━━━━━━━━━━━━━━━━━━━━━━━┳━━━━━━━━━━━━━━━━━━━━━━━━┳━━━━━━━━━━━━━━━┓\n",
              "┃\u001b[1m \u001b[0m\u001b[1mLayer (type)                   \u001b[0m\u001b[1m \u001b[0m┃\u001b[1m \u001b[0m\u001b[1mOutput Shape          \u001b[0m\u001b[1m \u001b[0m┃\u001b[1m \u001b[0m\u001b[1m      Param #\u001b[0m\u001b[1m \u001b[0m┃\n",
              "┡━━━━━━━━━━━━━━━━━━━━━━━━━━━━━━━━━╇━━━━━━━━━━━━━━━━━━━━━━━━╇━━━━━━━━━━━━━━━┩\n",
              "│ conv2d (\u001b[38;5;33mConv2D\u001b[0m)                 │ (\u001b[38;5;45mNone\u001b[0m, \u001b[38;5;34m60\u001b[0m, \u001b[38;5;34m127\u001b[0m, \u001b[38;5;34m16\u001b[0m)    │           \u001b[38;5;34m160\u001b[0m │\n",
              "├─────────────────────────────────┼────────────────────────┼───────────────┤\n",
              "│ conv2d_1 (\u001b[38;5;33mConv2D\u001b[0m)               │ (\u001b[38;5;45mNone\u001b[0m, \u001b[38;5;34m58\u001b[0m, \u001b[38;5;34m125\u001b[0m, \u001b[38;5;34m32\u001b[0m)    │         \u001b[38;5;34m4,640\u001b[0m │\n",
              "├─────────────────────────────────┼────────────────────────┼───────────────┤\n",
              "│ flatten (\u001b[38;5;33mFlatten\u001b[0m)               │ (\u001b[38;5;45mNone\u001b[0m, \u001b[38;5;34m232000\u001b[0m)         │             \u001b[38;5;34m0\u001b[0m │\n",
              "├─────────────────────────────────┼────────────────────────┼───────────────┤\n",
              "│ dense (\u001b[38;5;33mDense\u001b[0m)                   │ (\u001b[38;5;45mNone\u001b[0m, \u001b[38;5;34m64\u001b[0m)             │    \u001b[38;5;34m14,848,064\u001b[0m │\n",
              "├─────────────────────────────────┼────────────────────────┼───────────────┤\n",
              "│ dense_1 (\u001b[38;5;33mDense\u001b[0m)                 │ (\u001b[38;5;45mNone\u001b[0m, \u001b[38;5;34m1\u001b[0m)              │            \u001b[38;5;34m65\u001b[0m │\n",
              "└─────────────────────────────────┴────────────────────────┴───────────────┘\n"
            ],
            "text/html": [
              "<pre style=\"white-space:pre;overflow-x:auto;line-height:normal;font-family:Menlo,'DejaVu Sans Mono',consolas,'Courier New',monospace\">┏━━━━━━━━━━━━━━━━━━━━━━━━━━━━━━━━━┳━━━━━━━━━━━━━━━━━━━━━━━━┳━━━━━━━━━━━━━━━┓\n",
              "┃<span style=\"font-weight: bold\"> Layer (type)                    </span>┃<span style=\"font-weight: bold\"> Output Shape           </span>┃<span style=\"font-weight: bold\">       Param # </span>┃\n",
              "┡━━━━━━━━━━━━━━━━━━━━━━━━━━━━━━━━━╇━━━━━━━━━━━━━━━━━━━━━━━━╇━━━━━━━━━━━━━━━┩\n",
              "│ conv2d (<span style=\"color: #0087ff; text-decoration-color: #0087ff\">Conv2D</span>)                 │ (<span style=\"color: #00d7ff; text-decoration-color: #00d7ff\">None</span>, <span style=\"color: #00af00; text-decoration-color: #00af00\">60</span>, <span style=\"color: #00af00; text-decoration-color: #00af00\">127</span>, <span style=\"color: #00af00; text-decoration-color: #00af00\">16</span>)    │           <span style=\"color: #00af00; text-decoration-color: #00af00\">160</span> │\n",
              "├─────────────────────────────────┼────────────────────────┼───────────────┤\n",
              "│ conv2d_1 (<span style=\"color: #0087ff; text-decoration-color: #0087ff\">Conv2D</span>)               │ (<span style=\"color: #00d7ff; text-decoration-color: #00d7ff\">None</span>, <span style=\"color: #00af00; text-decoration-color: #00af00\">58</span>, <span style=\"color: #00af00; text-decoration-color: #00af00\">125</span>, <span style=\"color: #00af00; text-decoration-color: #00af00\">32</span>)    │         <span style=\"color: #00af00; text-decoration-color: #00af00\">4,640</span> │\n",
              "├─────────────────────────────────┼────────────────────────┼───────────────┤\n",
              "│ flatten (<span style=\"color: #0087ff; text-decoration-color: #0087ff\">Flatten</span>)               │ (<span style=\"color: #00d7ff; text-decoration-color: #00d7ff\">None</span>, <span style=\"color: #00af00; text-decoration-color: #00af00\">232000</span>)         │             <span style=\"color: #00af00; text-decoration-color: #00af00\">0</span> │\n",
              "├─────────────────────────────────┼────────────────────────┼───────────────┤\n",
              "│ dense (<span style=\"color: #0087ff; text-decoration-color: #0087ff\">Dense</span>)                   │ (<span style=\"color: #00d7ff; text-decoration-color: #00d7ff\">None</span>, <span style=\"color: #00af00; text-decoration-color: #00af00\">64</span>)             │    <span style=\"color: #00af00; text-decoration-color: #00af00\">14,848,064</span> │\n",
              "├─────────────────────────────────┼────────────────────────┼───────────────┤\n",
              "│ dense_1 (<span style=\"color: #0087ff; text-decoration-color: #0087ff\">Dense</span>)                 │ (<span style=\"color: #00d7ff; text-decoration-color: #00d7ff\">None</span>, <span style=\"color: #00af00; text-decoration-color: #00af00\">1</span>)              │            <span style=\"color: #00af00; text-decoration-color: #00af00\">65</span> │\n",
              "└─────────────────────────────────┴────────────────────────┴───────────────┘\n",
              "</pre>\n"
            ]
          },
          "metadata": {}
        },
        {
          "output_type": "display_data",
          "data": {
            "text/plain": [
              "\u001b[1m Total params: \u001b[0m\u001b[38;5;34m14,852,929\u001b[0m (56.66 MB)\n"
            ],
            "text/html": [
              "<pre style=\"white-space:pre;overflow-x:auto;line-height:normal;font-family:Menlo,'DejaVu Sans Mono',consolas,'Courier New',monospace\"><span style=\"font-weight: bold\"> Total params: </span><span style=\"color: #00af00; text-decoration-color: #00af00\">14,852,929</span> (56.66 MB)\n",
              "</pre>\n"
            ]
          },
          "metadata": {}
        },
        {
          "output_type": "display_data",
          "data": {
            "text/plain": [
              "\u001b[1m Trainable params: \u001b[0m\u001b[38;5;34m14,852,929\u001b[0m (56.66 MB)\n"
            ],
            "text/html": [
              "<pre style=\"white-space:pre;overflow-x:auto;line-height:normal;font-family:Menlo,'DejaVu Sans Mono',consolas,'Courier New',monospace\"><span style=\"font-weight: bold\"> Trainable params: </span><span style=\"color: #00af00; text-decoration-color: #00af00\">14,852,929</span> (56.66 MB)\n",
              "</pre>\n"
            ]
          },
          "metadata": {}
        },
        {
          "output_type": "display_data",
          "data": {
            "text/plain": [
              "\u001b[1m Non-trainable params: \u001b[0m\u001b[38;5;34m0\u001b[0m (0.00 B)\n"
            ],
            "text/html": [
              "<pre style=\"white-space:pre;overflow-x:auto;line-height:normal;font-family:Menlo,'DejaVu Sans Mono',consolas,'Courier New',monospace\"><span style=\"font-weight: bold\"> Non-trainable params: </span><span style=\"color: #00af00; text-decoration-color: #00af00\">0</span> (0.00 B)\n",
              "</pre>\n"
            ]
          },
          "metadata": {}
        },
        {
          "output_type": "stream",
          "name": "stdout",
          "text": [
            "None\n",
            "Epoch 1/10\n",
            "\u001b[1m8/8\u001b[0m \u001b[32m━━━━━━━━━━━━━━━━━━━━\u001b[0m\u001b[37m\u001b[0m \u001b[1m5s\u001b[0m 347ms/step - accuracy: 0.5051 - loss: 0.6296 - precision: 0.5221 - recall: 0.7132 - val_accuracy: 0.9000 - val_loss: 0.1492 - val_precision: 0.8333 - val_recall: 1.0000\n",
            "Epoch 2/10\n",
            "\u001b[1m8/8\u001b[0m \u001b[32m━━━━━━━━━━━━━━━━━━━━\u001b[0m\u001b[37m\u001b[0m \u001b[1m2s\u001b[0m 299ms/step - accuracy: 0.9840 - loss: 0.0962 - precision: 1.0000 - recall: 0.9690 - val_accuracy: 1.0000 - val_loss: 0.0407 - val_precision: 1.0000 - val_recall: 1.0000\n",
            "Epoch 3/10\n",
            "\u001b[1m8/8\u001b[0m \u001b[32m━━━━━━━━━━━━━━━━━━━━\u001b[0m\u001b[37m\u001b[0m \u001b[1m5s\u001b[0m 677ms/step - accuracy: 0.9920 - loss: 0.0393 - precision: 1.0000 - recall: 0.9845 - val_accuracy: 0.9000 - val_loss: 0.1300 - val_precision: 0.8333 - val_recall: 1.0000\n",
            "Epoch 4/10\n",
            "\u001b[1m8/8\u001b[0m \u001b[32m━━━━━━━━━━━━━━━━━━━━\u001b[0m\u001b[37m\u001b[0m \u001b[1m2s\u001b[0m 292ms/step - accuracy: 0.9920 - loss: 0.0301 - precision: 1.0000 - recall: 0.9845 - val_accuracy: 1.0000 - val_loss: 0.0426 - val_precision: 1.0000 - val_recall: 1.0000\n",
            "Epoch 5/10\n",
            "\u001b[1m8/8\u001b[0m \u001b[32m━━━━━━━━━━━━━━━━━━━━\u001b[0m\u001b[37m\u001b[0m \u001b[1m2s\u001b[0m 299ms/step - accuracy: 0.9920 - loss: 0.0152 - precision: 1.0000 - recall: 0.9845 - val_accuracy: 1.0000 - val_loss: 0.0207 - val_precision: 1.0000 - val_recall: 1.0000\n",
            "Epoch 6/10\n",
            "\u001b[1m8/8\u001b[0m \u001b[32m━━━━━━━━━━━━━━━━━━━━\u001b[0m\u001b[37m\u001b[0m \u001b[1m2s\u001b[0m 280ms/step - accuracy: 1.0000 - loss: 0.0081 - precision: 1.0000 - recall: 1.0000 - val_accuracy: 1.0000 - val_loss: 0.0348 - val_precision: 1.0000 - val_recall: 1.0000\n",
            "Epoch 7/10\n",
            "\u001b[1m8/8\u001b[0m \u001b[32m━━━━━━━━━━━━━━━━━━━━\u001b[0m\u001b[37m\u001b[0m \u001b[1m3s\u001b[0m 396ms/step - accuracy: 1.0000 - loss: 0.0037 - precision: 1.0000 - recall: 1.0000 - val_accuracy: 0.9000 - val_loss: 0.3396 - val_precision: 1.0000 - val_recall: 0.8000\n",
            "Epoch 8/10\n",
            "\u001b[1m8/8\u001b[0m \u001b[32m━━━━━━━━━━━━━━━━━━━━\u001b[0m\u001b[37m\u001b[0m \u001b[1m2s\u001b[0m 287ms/step - accuracy: 1.0000 - loss: 0.0013 - precision: 1.0000 - recall: 1.0000 - val_accuracy: 0.9000 - val_loss: 0.7459 - val_precision: 1.0000 - val_recall: 0.8000\n",
            "Epoch 9/10\n",
            "\u001b[1m8/8\u001b[0m \u001b[32m━━━━━━━━━━━━━━━━━━━━\u001b[0m\u001b[37m\u001b[0m \u001b[1m2s\u001b[0m 292ms/step - accuracy: 1.0000 - loss: 5.2067e-04 - precision: 1.0000 - recall: 1.0000 - val_accuracy: 0.9000 - val_loss: 1.0778 - val_precision: 1.0000 - val_recall: 0.8000\n",
            "Epoch 10/10\n",
            "\u001b[1m8/8\u001b[0m \u001b[32m━━━━━━━━━━━━━━━━━━━━\u001b[0m\u001b[37m\u001b[0m \u001b[1m2s\u001b[0m 283ms/step - accuracy: 1.0000 - loss: 2.6346e-04 - precision: 1.0000 - recall: 1.0000 - val_accuracy: 0.9000 - val_loss: 1.2804 - val_precision: 1.0000 - val_recall: 0.8000\n"
          ]
        },
        {
          "output_type": "stream",
          "name": "stderr",
          "text": [
            "WARNING:absl:You are saving your model as an HDF5 file via `model.save()` or `keras.saving.save_model(model)`. This file format is considered legacy. We recommend using instead the native Keras format, e.g. `model.save('my_model.keras')` or `keras.saving.save_model(model, 'my_model.keras')`. \n"
          ]
        },
        {
          "output_type": "stream",
          "name": "stdout",
          "text": [
            "\n",
            "Simple Neural Network Results:\n",
            "Training - Acc: 1.000, F1: 1.000, Precision: 1.000, Recall: 1.000\n",
            "Validation - Acc: 0.900, F1: 0.889, Precision: 1.000, Recall: 0.800\n",
            "Test - Acc: 0.950, F1: 0.947, Precision: 1.000, Recall: 0.900\n",
            "Model saved as 'simple_neural_network.h5'\n"
          ]
        }
      ]
    },
    {
      "cell_type": "code",
      "source": [
        "# Cell 7: Model 3 - Optimized Neural Network Instance 2 (Adam + L2 + Early Stopping)\n",
        "print(\"Training Model 3: Optimized Neural Network - Instance 2\")\n",
        "print(\"=\" * 60)\n",
        "\n",
        "# Clear previous model\n",
        "tf.keras.backend.clear_session()\n",
        "gc.collect()\n",
        "\n",
        "# Optimized model with L2 regularization\n",
        "model_opt1 = Sequential([\n",
        "    Conv2D(16, (3,3), activation='relu', input_shape=input_shape,\n",
        "           kernel_regularizer=l2(0.01)),\n",
        "    MaxPooling2D(2, 2),\n",
        "    Conv2D(32, (3,3), activation='relu', kernel_regularizer=l2(0.01)),\n",
        "    MaxPooling2D(2, 2),\n",
        "    Dropout(0.3),\n",
        "    Conv2D(64, (3,3), activation='relu', kernel_regularizer=l2(0.01)),\n",
        "    Dropout(0.3),\n",
        "    Flatten(),\n",
        "    Dense(128, activation='relu', kernel_regularizer=l2(0.01)),\n",
        "    Dropout(0.5),\n",
        "    Dense(1, activation='sigmoid')\n",
        "])\n",
        "\n",
        "# Compile with Adam optimizer and custom learning rate\n",
        "optimizer_adam = Adam(learning_rate=0.0005)\n",
        "model_opt1.compile(\n",
        "    optimizer=optimizer_adam,\n",
        "    loss='binary_crossentropy',\n",
        "    metrics=['accuracy', 'precision', 'recall']\n",
        ")\n",
        "\n",
        "# Early stopping callback\n",
        "early_stopping = EarlyStopping(\n",
        "    monitor='val_loss',\n",
        "    patience=5,\n",
        "    restore_best_weights=True,\n",
        "    verbose=1\n",
        ")\n",
        "\n",
        "print(model_opt1.summary())\n",
        "\n",
        "# Train with early stopping\n",
        "history_opt1 = model_opt1.fit(\n",
        "    train_dataset,\n",
        "    epochs=20,\n",
        "    validation_data=val_dataset,\n",
        "    callbacks=[early_stopping],\n",
        "    verbose=1\n",
        ")\n",
        "\n",
        "# Evaluate\n",
        "train_loss_opt1, train_acc_opt1, train_prec_opt1, train_rec_opt1 = model_opt1.evaluate(train_dataset, verbose=0)\n",
        "val_loss_opt1, val_acc_opt1, val_prec_opt1, val_rec_opt1 = model_opt1.evaluate(val_dataset, verbose=0)\n",
        "test_loss_opt1, test_acc_opt1, test_prec_opt1, test_rec_opt1 = model_opt1.evaluate(test_dataset, verbose=0)\n",
        "\n",
        "# Calculate F1 scores\n",
        "train_f1_opt1 = 2 * (train_prec_opt1 * train_rec_opt1) / (train_prec_opt1 + train_rec_opt1 + 1e-7)\n",
        "val_f1_opt1 = 2 * (val_prec_opt1 * val_rec_opt1) / (val_prec_opt1 + val_rec_opt1 + 1e-7)\n",
        "test_f1_opt1 = 2 * (test_prec_opt1 * test_rec_opt1) / (test_prec_opt1 + test_rec_opt1 + 1e-7)\n",
        "\n",
        "print(f\"\\nOptimized Neural Network Instance 2 Results:\")\n",
        "print(f\"Training - Acc: {train_acc_opt1:.3f}, F1: {train_f1_opt1:.3f}, Precision: {train_prec_opt1:.3f}, Recall: {train_rec_opt1:.3f}\")\n",
        "print(f\"Validation - Acc: {val_acc_opt1:.3f}, F1: {val_f1_opt1:.3f}, Precision: {val_prec_opt1:.3f}, Recall: {val_rec_opt1:.3f}\")\n",
        "print(f\"Test - Acc: {test_acc_opt1:.3f}, F1: {test_f1_opt1:.3f}, Precision: {test_prec_opt1:.3f}, Recall: {test_rec_opt1:.3f}\")\n",
        "\n",
        "# Save model\n",
        "model_opt1.save('saved_models/optimized_nn_instance2.h5')\n",
        "print(\"Model saved as 'optimized_nn_instance2.h5'\")\n",
        "\n",
        "# Add to results table\n",
        "results_table.append({\n",
        "    'Instance': 'Instance 2 (Opt)',\n",
        "    'Optimizer': 'Adam',\n",
        "    'Regularizer': 'L2 (0.01)',\n",
        "    'Epochs': len(history_opt1.history['loss']),\n",
        "    'Early_Stopping': 'Yes',\n",
        "    'Layers': 8,\n",
        "    'Learning_Rate': 0.0005,\n",
        "    'Accuracy': f\"{test_acc_opt1:.3f}\",\n",
        "    'F1_Score': f\"{test_f1_opt1:.3f}\",\n",
        "    'Precision': f\"{test_prec_opt1:.3f}\",\n",
        "    'Recall': f\"{test_rec_opt1:.3f}\",\n",
        "    'Loss': f\"{test_loss_opt1:.3f}\"\n",
        "})"
      ],
      "metadata": {
        "colab": {
          "base_uri": "https://localhost:8080/",
          "height": 1000
        },
        "id": "KU_czE76-t9U",
        "outputId": "a13bdcf1-436f-4168-98e4-2d0adfd2bc0d"
      },
      "execution_count": 8,
      "outputs": [
        {
          "output_type": "stream",
          "name": "stdout",
          "text": [
            "Training Model 3: Optimized Neural Network - Instance 2\n",
            "============================================================\n"
          ]
        },
        {
          "output_type": "display_data",
          "data": {
            "text/plain": [
              "\u001b[1mModel: \"sequential\"\u001b[0m\n"
            ],
            "text/html": [
              "<pre style=\"white-space:pre;overflow-x:auto;line-height:normal;font-family:Menlo,'DejaVu Sans Mono',consolas,'Courier New',monospace\"><span style=\"font-weight: bold\">Model: \"sequential\"</span>\n",
              "</pre>\n"
            ]
          },
          "metadata": {}
        },
        {
          "output_type": "display_data",
          "data": {
            "text/plain": [
              "┏━━━━━━━━━━━━━━━━━━━━━━━━━━━━━━━━━┳━━━━━━━━━━━━━━━━━━━━━━━━┳━━━━━━━━━━━━━━━┓\n",
              "┃\u001b[1m \u001b[0m\u001b[1mLayer (type)                   \u001b[0m\u001b[1m \u001b[0m┃\u001b[1m \u001b[0m\u001b[1mOutput Shape          \u001b[0m\u001b[1m \u001b[0m┃\u001b[1m \u001b[0m\u001b[1m      Param #\u001b[0m\u001b[1m \u001b[0m┃\n",
              "┡━━━━━━━━━━━━━━━━━━━━━━━━━━━━━━━━━╇━━━━━━━━━━━━━━━━━━━━━━━━╇━━━━━━━━━━━━━━━┩\n",
              "│ conv2d (\u001b[38;5;33mConv2D\u001b[0m)                 │ (\u001b[38;5;45mNone\u001b[0m, \u001b[38;5;34m60\u001b[0m, \u001b[38;5;34m127\u001b[0m, \u001b[38;5;34m16\u001b[0m)    │           \u001b[38;5;34m160\u001b[0m │\n",
              "├─────────────────────────────────┼────────────────────────┼───────────────┤\n",
              "│ max_pooling2d (\u001b[38;5;33mMaxPooling2D\u001b[0m)    │ (\u001b[38;5;45mNone\u001b[0m, \u001b[38;5;34m30\u001b[0m, \u001b[38;5;34m63\u001b[0m, \u001b[38;5;34m16\u001b[0m)     │             \u001b[38;5;34m0\u001b[0m │\n",
              "├─────────────────────────────────┼────────────────────────┼───────────────┤\n",
              "│ conv2d_1 (\u001b[38;5;33mConv2D\u001b[0m)               │ (\u001b[38;5;45mNone\u001b[0m, \u001b[38;5;34m28\u001b[0m, \u001b[38;5;34m61\u001b[0m, \u001b[38;5;34m32\u001b[0m)     │         \u001b[38;5;34m4,640\u001b[0m │\n",
              "├─────────────────────────────────┼────────────────────────┼───────────────┤\n",
              "│ max_pooling2d_1 (\u001b[38;5;33mMaxPooling2D\u001b[0m)  │ (\u001b[38;5;45mNone\u001b[0m, \u001b[38;5;34m14\u001b[0m, \u001b[38;5;34m30\u001b[0m, \u001b[38;5;34m32\u001b[0m)     │             \u001b[38;5;34m0\u001b[0m │\n",
              "├─────────────────────────────────┼────────────────────────┼───────────────┤\n",
              "│ dropout (\u001b[38;5;33mDropout\u001b[0m)               │ (\u001b[38;5;45mNone\u001b[0m, \u001b[38;5;34m14\u001b[0m, \u001b[38;5;34m30\u001b[0m, \u001b[38;5;34m32\u001b[0m)     │             \u001b[38;5;34m0\u001b[0m │\n",
              "├─────────────────────────────────┼────────────────────────┼───────────────┤\n",
              "│ conv2d_2 (\u001b[38;5;33mConv2D\u001b[0m)               │ (\u001b[38;5;45mNone\u001b[0m, \u001b[38;5;34m12\u001b[0m, \u001b[38;5;34m28\u001b[0m, \u001b[38;5;34m64\u001b[0m)     │        \u001b[38;5;34m18,496\u001b[0m │\n",
              "├─────────────────────────────────┼────────────────────────┼───────────────┤\n",
              "│ dropout_1 (\u001b[38;5;33mDropout\u001b[0m)             │ (\u001b[38;5;45mNone\u001b[0m, \u001b[38;5;34m12\u001b[0m, \u001b[38;5;34m28\u001b[0m, \u001b[38;5;34m64\u001b[0m)     │             \u001b[38;5;34m0\u001b[0m │\n",
              "├─────────────────────────────────┼────────────────────────┼───────────────┤\n",
              "│ flatten (\u001b[38;5;33mFlatten\u001b[0m)               │ (\u001b[38;5;45mNone\u001b[0m, \u001b[38;5;34m21504\u001b[0m)          │             \u001b[38;5;34m0\u001b[0m │\n",
              "├─────────────────────────────────┼────────────────────────┼───────────────┤\n",
              "│ dense (\u001b[38;5;33mDense\u001b[0m)                   │ (\u001b[38;5;45mNone\u001b[0m, \u001b[38;5;34m128\u001b[0m)            │     \u001b[38;5;34m2,752,640\u001b[0m │\n",
              "├─────────────────────────────────┼────────────────────────┼───────────────┤\n",
              "│ dropout_2 (\u001b[38;5;33mDropout\u001b[0m)             │ (\u001b[38;5;45mNone\u001b[0m, \u001b[38;5;34m128\u001b[0m)            │             \u001b[38;5;34m0\u001b[0m │\n",
              "├─────────────────────────────────┼────────────────────────┼───────────────┤\n",
              "│ dense_1 (\u001b[38;5;33mDense\u001b[0m)                 │ (\u001b[38;5;45mNone\u001b[0m, \u001b[38;5;34m1\u001b[0m)              │           \u001b[38;5;34m129\u001b[0m │\n",
              "└─────────────────────────────────┴────────────────────────┴───────────────┘\n"
            ],
            "text/html": [
              "<pre style=\"white-space:pre;overflow-x:auto;line-height:normal;font-family:Menlo,'DejaVu Sans Mono',consolas,'Courier New',monospace\">┏━━━━━━━━━━━━━━━━━━━━━━━━━━━━━━━━━┳━━━━━━━━━━━━━━━━━━━━━━━━┳━━━━━━━━━━━━━━━┓\n",
              "┃<span style=\"font-weight: bold\"> Layer (type)                    </span>┃<span style=\"font-weight: bold\"> Output Shape           </span>┃<span style=\"font-weight: bold\">       Param # </span>┃\n",
              "┡━━━━━━━━━━━━━━━━━━━━━━━━━━━━━━━━━╇━━━━━━━━━━━━━━━━━━━━━━━━╇━━━━━━━━━━━━━━━┩\n",
              "│ conv2d (<span style=\"color: #0087ff; text-decoration-color: #0087ff\">Conv2D</span>)                 │ (<span style=\"color: #00d7ff; text-decoration-color: #00d7ff\">None</span>, <span style=\"color: #00af00; text-decoration-color: #00af00\">60</span>, <span style=\"color: #00af00; text-decoration-color: #00af00\">127</span>, <span style=\"color: #00af00; text-decoration-color: #00af00\">16</span>)    │           <span style=\"color: #00af00; text-decoration-color: #00af00\">160</span> │\n",
              "├─────────────────────────────────┼────────────────────────┼───────────────┤\n",
              "│ max_pooling2d (<span style=\"color: #0087ff; text-decoration-color: #0087ff\">MaxPooling2D</span>)    │ (<span style=\"color: #00d7ff; text-decoration-color: #00d7ff\">None</span>, <span style=\"color: #00af00; text-decoration-color: #00af00\">30</span>, <span style=\"color: #00af00; text-decoration-color: #00af00\">63</span>, <span style=\"color: #00af00; text-decoration-color: #00af00\">16</span>)     │             <span style=\"color: #00af00; text-decoration-color: #00af00\">0</span> │\n",
              "├─────────────────────────────────┼────────────────────────┼───────────────┤\n",
              "│ conv2d_1 (<span style=\"color: #0087ff; text-decoration-color: #0087ff\">Conv2D</span>)               │ (<span style=\"color: #00d7ff; text-decoration-color: #00d7ff\">None</span>, <span style=\"color: #00af00; text-decoration-color: #00af00\">28</span>, <span style=\"color: #00af00; text-decoration-color: #00af00\">61</span>, <span style=\"color: #00af00; text-decoration-color: #00af00\">32</span>)     │         <span style=\"color: #00af00; text-decoration-color: #00af00\">4,640</span> │\n",
              "├─────────────────────────────────┼────────────────────────┼───────────────┤\n",
              "│ max_pooling2d_1 (<span style=\"color: #0087ff; text-decoration-color: #0087ff\">MaxPooling2D</span>)  │ (<span style=\"color: #00d7ff; text-decoration-color: #00d7ff\">None</span>, <span style=\"color: #00af00; text-decoration-color: #00af00\">14</span>, <span style=\"color: #00af00; text-decoration-color: #00af00\">30</span>, <span style=\"color: #00af00; text-decoration-color: #00af00\">32</span>)     │             <span style=\"color: #00af00; text-decoration-color: #00af00\">0</span> │\n",
              "├─────────────────────────────────┼────────────────────────┼───────────────┤\n",
              "│ dropout (<span style=\"color: #0087ff; text-decoration-color: #0087ff\">Dropout</span>)               │ (<span style=\"color: #00d7ff; text-decoration-color: #00d7ff\">None</span>, <span style=\"color: #00af00; text-decoration-color: #00af00\">14</span>, <span style=\"color: #00af00; text-decoration-color: #00af00\">30</span>, <span style=\"color: #00af00; text-decoration-color: #00af00\">32</span>)     │             <span style=\"color: #00af00; text-decoration-color: #00af00\">0</span> │\n",
              "├─────────────────────────────────┼────────────────────────┼───────────────┤\n",
              "│ conv2d_2 (<span style=\"color: #0087ff; text-decoration-color: #0087ff\">Conv2D</span>)               │ (<span style=\"color: #00d7ff; text-decoration-color: #00d7ff\">None</span>, <span style=\"color: #00af00; text-decoration-color: #00af00\">12</span>, <span style=\"color: #00af00; text-decoration-color: #00af00\">28</span>, <span style=\"color: #00af00; text-decoration-color: #00af00\">64</span>)     │        <span style=\"color: #00af00; text-decoration-color: #00af00\">18,496</span> │\n",
              "├─────────────────────────────────┼────────────────────────┼───────────────┤\n",
              "│ dropout_1 (<span style=\"color: #0087ff; text-decoration-color: #0087ff\">Dropout</span>)             │ (<span style=\"color: #00d7ff; text-decoration-color: #00d7ff\">None</span>, <span style=\"color: #00af00; text-decoration-color: #00af00\">12</span>, <span style=\"color: #00af00; text-decoration-color: #00af00\">28</span>, <span style=\"color: #00af00; text-decoration-color: #00af00\">64</span>)     │             <span style=\"color: #00af00; text-decoration-color: #00af00\">0</span> │\n",
              "├─────────────────────────────────┼────────────────────────┼───────────────┤\n",
              "│ flatten (<span style=\"color: #0087ff; text-decoration-color: #0087ff\">Flatten</span>)               │ (<span style=\"color: #00d7ff; text-decoration-color: #00d7ff\">None</span>, <span style=\"color: #00af00; text-decoration-color: #00af00\">21504</span>)          │             <span style=\"color: #00af00; text-decoration-color: #00af00\">0</span> │\n",
              "├─────────────────────────────────┼────────────────────────┼───────────────┤\n",
              "│ dense (<span style=\"color: #0087ff; text-decoration-color: #0087ff\">Dense</span>)                   │ (<span style=\"color: #00d7ff; text-decoration-color: #00d7ff\">None</span>, <span style=\"color: #00af00; text-decoration-color: #00af00\">128</span>)            │     <span style=\"color: #00af00; text-decoration-color: #00af00\">2,752,640</span> │\n",
              "├─────────────────────────────────┼────────────────────────┼───────────────┤\n",
              "│ dropout_2 (<span style=\"color: #0087ff; text-decoration-color: #0087ff\">Dropout</span>)             │ (<span style=\"color: #00d7ff; text-decoration-color: #00d7ff\">None</span>, <span style=\"color: #00af00; text-decoration-color: #00af00\">128</span>)            │             <span style=\"color: #00af00; text-decoration-color: #00af00\">0</span> │\n",
              "├─────────────────────────────────┼────────────────────────┼───────────────┤\n",
              "│ dense_1 (<span style=\"color: #0087ff; text-decoration-color: #0087ff\">Dense</span>)                 │ (<span style=\"color: #00d7ff; text-decoration-color: #00d7ff\">None</span>, <span style=\"color: #00af00; text-decoration-color: #00af00\">1</span>)              │           <span style=\"color: #00af00; text-decoration-color: #00af00\">129</span> │\n",
              "└─────────────────────────────────┴────────────────────────┴───────────────┘\n",
              "</pre>\n"
            ]
          },
          "metadata": {}
        },
        {
          "output_type": "display_data",
          "data": {
            "text/plain": [
              "\u001b[1m Total params: \u001b[0m\u001b[38;5;34m2,776,065\u001b[0m (10.59 MB)\n"
            ],
            "text/html": [
              "<pre style=\"white-space:pre;overflow-x:auto;line-height:normal;font-family:Menlo,'DejaVu Sans Mono',consolas,'Courier New',monospace\"><span style=\"font-weight: bold\"> Total params: </span><span style=\"color: #00af00; text-decoration-color: #00af00\">2,776,065</span> (10.59 MB)\n",
              "</pre>\n"
            ]
          },
          "metadata": {}
        },
        {
          "output_type": "display_data",
          "data": {
            "text/plain": [
              "\u001b[1m Trainable params: \u001b[0m\u001b[38;5;34m2,776,065\u001b[0m (10.59 MB)\n"
            ],
            "text/html": [
              "<pre style=\"white-space:pre;overflow-x:auto;line-height:normal;font-family:Menlo,'DejaVu Sans Mono',consolas,'Courier New',monospace\"><span style=\"font-weight: bold\"> Trainable params: </span><span style=\"color: #00af00; text-decoration-color: #00af00\">2,776,065</span> (10.59 MB)\n",
              "</pre>\n"
            ]
          },
          "metadata": {}
        },
        {
          "output_type": "display_data",
          "data": {
            "text/plain": [
              "\u001b[1m Non-trainable params: \u001b[0m\u001b[38;5;34m0\u001b[0m (0.00 B)\n"
            ],
            "text/html": [
              "<pre style=\"white-space:pre;overflow-x:auto;line-height:normal;font-family:Menlo,'DejaVu Sans Mono',consolas,'Courier New',monospace\"><span style=\"font-weight: bold\"> Non-trainable params: </span><span style=\"color: #00af00; text-decoration-color: #00af00\">0</span> (0.00 B)\n",
              "</pre>\n"
            ]
          },
          "metadata": {}
        },
        {
          "output_type": "stream",
          "name": "stdout",
          "text": [
            "None\n",
            "Epoch 1/20\n",
            "\u001b[1m8/8\u001b[0m \u001b[32m━━━━━━━━━━━━━━━━━━━━\u001b[0m\u001b[37m\u001b[0m \u001b[1m8s\u001b[0m 391ms/step - accuracy: 0.5284 - loss: 3.5079 - precision: 0.5302 - recall: 0.9237 - val_accuracy: 0.5000 - val_loss: 2.5024 - val_precision: 0.5000 - val_recall: 1.0000\n",
            "Epoch 2/20\n",
            "\u001b[1m8/8\u001b[0m \u001b[32m━━━━━━━━━━━━━━━━━━━━\u001b[0m\u001b[37m\u001b[0m \u001b[1m4s\u001b[0m 290ms/step - accuracy: 0.5941 - loss: 2.3303 - precision: 0.5691 - recall: 0.9771 - val_accuracy: 0.8500 - val_loss: 1.7846 - val_precision: 0.7692 - val_recall: 1.0000\n",
            "Epoch 3/20\n",
            "\u001b[1m8/8\u001b[0m \u001b[32m━━━━━━━━━━━━━━━━━━━━\u001b[0m\u001b[37m\u001b[0m \u001b[1m1s\u001b[0m 133ms/step - accuracy: 0.8335 - loss: 1.6825 - precision: 0.7739 - recall: 0.9845 - val_accuracy: 0.9500 - val_loss: 1.4012 - val_precision: 0.9091 - val_recall: 1.0000\n",
            "Epoch 4/20\n",
            "\u001b[1m8/8\u001b[0m \u001b[32m━━━━━━━━━━━━━━━━━━━━\u001b[0m\u001b[37m\u001b[0m \u001b[1m1s\u001b[0m 138ms/step - accuracy: 0.9256 - loss: 1.3291 - precision: 0.9073 - recall: 0.9577 - val_accuracy: 0.9500 - val_loss: 1.1621 - val_precision: 0.9091 - val_recall: 1.0000\n",
            "Epoch 5/20\n",
            "\u001b[1m8/8\u001b[0m \u001b[32m━━━━━━━━━━━━━━━━━━━━\u001b[0m\u001b[37m\u001b[0m \u001b[1m1s\u001b[0m 115ms/step - accuracy: 0.9582 - loss: 1.1295 - precision: 1.0000 - recall: 0.9204 - val_accuracy: 1.0000 - val_loss: 0.9773 - val_precision: 1.0000 - val_recall: 1.0000\n",
            "Epoch 6/20\n",
            "\u001b[1m8/8\u001b[0m \u001b[32m━━━━━━━━━━━━━━━━━━━━\u001b[0m\u001b[37m\u001b[0m \u001b[1m1s\u001b[0m 135ms/step - accuracy: 0.9582 - loss: 0.9843 - precision: 1.0000 - recall: 0.9204 - val_accuracy: 1.0000 - val_loss: 0.8595 - val_precision: 1.0000 - val_recall: 1.0000\n",
            "Epoch 7/20\n",
            "\u001b[1m8/8\u001b[0m \u001b[32m━━━━━━━━━━━━━━━━━━━━\u001b[0m\u001b[37m\u001b[0m \u001b[1m1s\u001b[0m 134ms/step - accuracy: 0.9582 - loss: 0.8762 - precision: 1.0000 - recall: 0.9204 - val_accuracy: 1.0000 - val_loss: 0.7848 - val_precision: 1.0000 - val_recall: 1.0000\n",
            "Epoch 8/20\n",
            "\u001b[1m8/8\u001b[0m \u001b[32m━━━━━━━━━━━━━━━━━━━━\u001b[0m\u001b[37m\u001b[0m \u001b[1m1s\u001b[0m 158ms/step - accuracy: 0.9525 - loss: 0.8026 - precision: 1.0000 - recall: 0.9092 - val_accuracy: 0.9000 - val_loss: 0.8301 - val_precision: 0.8333 - val_recall: 1.0000\n",
            "Epoch 9/20\n",
            "\u001b[1m8/8\u001b[0m \u001b[32m━━━━━━━━━━━━━━━━━━━━\u001b[0m\u001b[37m\u001b[0m \u001b[1m1s\u001b[0m 129ms/step - accuracy: 0.8996 - loss: 0.8388 - precision: 0.8956 - recall: 0.9204 - val_accuracy: 1.0000 - val_loss: 0.7071 - val_precision: 1.0000 - val_recall: 1.0000\n",
            "Epoch 10/20\n",
            "\u001b[1m8/8\u001b[0m \u001b[32m━━━━━━━━━━━━━━━━━━━━\u001b[0m\u001b[37m\u001b[0m \u001b[1m1s\u001b[0m 133ms/step - accuracy: 0.9393 - loss: 0.7647 - precision: 1.0000 - recall: 0.8857 - val_accuracy: 0.9000 - val_loss: 0.7730 - val_precision: 0.8333 - val_recall: 1.0000\n",
            "Epoch 11/20\n",
            "\u001b[1m8/8\u001b[0m \u001b[32m━━━━━━━━━━━━━━━━━━━━\u001b[0m\u001b[37m\u001b[0m \u001b[1m1s\u001b[0m 150ms/step - accuracy: 0.9582 - loss: 0.7481 - precision: 1.0000 - recall: 0.9204 - val_accuracy: 0.9000 - val_loss: 0.7417 - val_precision: 0.8333 - val_recall: 1.0000\n",
            "Epoch 12/20\n",
            "\u001b[1m8/8\u001b[0m \u001b[32m━━━━━━━━━━━━━━━━━━━━\u001b[0m\u001b[37m\u001b[0m \u001b[1m2s\u001b[0m 312ms/step - accuracy: 0.9213 - loss: 0.7451 - precision: 0.9380 - recall: 0.9130 - val_accuracy: 1.0000 - val_loss: 0.6304 - val_precision: 1.0000 - val_recall: 1.0000\n",
            "Epoch 13/20\n",
            "\u001b[1m8/8\u001b[0m \u001b[32m━━━━━━━━━━━━━━━━━━━━\u001b[0m\u001b[37m\u001b[0m \u001b[1m1s\u001b[0m 156ms/step - accuracy: 0.9582 - loss: 0.6960 - precision: 1.0000 - recall: 0.9204 - val_accuracy: 0.9000 - val_loss: 0.7966 - val_precision: 0.8333 - val_recall: 1.0000\n",
            "Epoch 14/20\n",
            "\u001b[1m8/8\u001b[0m \u001b[32m━━━━━━━━━━━━━━━━━━━━\u001b[0m\u001b[37m\u001b[0m \u001b[1m1s\u001b[0m 138ms/step - accuracy: 0.9651 - loss: 0.7150 - precision: 0.9658 - recall: 0.9690 - val_accuracy: 1.0000 - val_loss: 0.6438 - val_precision: 1.0000 - val_recall: 1.0000\n",
            "Epoch 15/20\n",
            "\u001b[1m8/8\u001b[0m \u001b[32m━━━━━━━━━━━━━━━━━━━━\u001b[0m\u001b[37m\u001b[0m \u001b[1m1s\u001b[0m 142ms/step - accuracy: 0.9525 - loss: 0.7034 - precision: 1.0000 - recall: 0.9092 - val_accuracy: 0.9500 - val_loss: 0.6456 - val_precision: 0.9091 - val_recall: 1.0000\n",
            "Epoch 16/20\n",
            "\u001b[1m8/8\u001b[0m \u001b[32m━━━━━━━━━━━━━━━━━━━━\u001b[0m\u001b[37m\u001b[0m \u001b[1m1s\u001b[0m 134ms/step - accuracy: 0.9076 - loss: 0.7513 - precision: 0.9629 - recall: 0.8596 - val_accuracy: 0.9500 - val_loss: 0.6849 - val_precision: 0.9091 - val_recall: 1.0000\n",
            "Epoch 17/20\n",
            "\u001b[1m8/8\u001b[0m \u001b[32m━━━━━━━━━━━━━━━━━━━━\u001b[0m\u001b[37m\u001b[0m \u001b[1m1s\u001b[0m 137ms/step - accuracy: 0.9840 - loss: 0.6698 - precision: 1.0000 - recall: 0.9690 - val_accuracy: 1.0000 - val_loss: 0.5900 - val_precision: 1.0000 - val_recall: 1.0000\n",
            "Epoch 18/20\n",
            "\u001b[1m8/8\u001b[0m \u001b[32m━━━━━━━━━━━━━━━━━━━━\u001b[0m\u001b[37m\u001b[0m \u001b[1m1s\u001b[0m 144ms/step - accuracy: 0.9582 - loss: 0.6358 - precision: 1.0000 - recall: 0.9204 - val_accuracy: 1.0000 - val_loss: 0.5691 - val_precision: 1.0000 - val_recall: 1.0000\n",
            "Epoch 19/20\n",
            "\u001b[1m8/8\u001b[0m \u001b[32m━━━━━━━━━━━━━━━━━━━━\u001b[0m\u001b[37m\u001b[0m \u001b[1m1s\u001b[0m 145ms/step - accuracy: 0.9840 - loss: 0.5864 - precision: 1.0000 - recall: 0.9690 - val_accuracy: 1.0000 - val_loss: 0.5662 - val_precision: 1.0000 - val_recall: 1.0000\n",
            "Epoch 20/20\n",
            "\u001b[1m8/8\u001b[0m \u001b[32m━━━━━━━━━━━━━━━━━━━━\u001b[0m\u001b[37m\u001b[0m \u001b[1m1s\u001b[0m 167ms/step - accuracy: 0.9863 - loss: 0.5841 - precision: 1.0000 - recall: 0.9732 - val_accuracy: 0.9000 - val_loss: 0.6159 - val_precision: 0.8333 - val_recall: 1.0000\n",
            "Restoring model weights from the end of the best epoch: 19.\n"
          ]
        },
        {
          "output_type": "stream",
          "name": "stderr",
          "text": [
            "WARNING:absl:You are saving your model as an HDF5 file via `model.save()` or `keras.saving.save_model(model)`. This file format is considered legacy. We recommend using instead the native Keras format, e.g. `model.save('my_model.keras')` or `keras.saving.save_model(model, 'my_model.keras')`. \n"
          ]
        },
        {
          "output_type": "stream",
          "name": "stdout",
          "text": [
            "\n",
            "Optimized Neural Network Instance 2 Results:\n",
            "Training - Acc: 0.983, F1: 0.983, Precision: 1.000, Recall: 0.967\n",
            "Validation - Acc: 1.000, F1: 1.000, Precision: 1.000, Recall: 1.000\n",
            "Test - Acc: 1.000, F1: 1.000, Precision: 1.000, Recall: 1.000\n",
            "Model saved as 'optimized_nn_instance2.h5'\n"
          ]
        }
      ]
    },
    {
      "cell_type": "code",
      "source": [
        "# Cell 8: Model 4 - Optimized Neural Network Instance 3 (RMSprop + L1 + BatchNorm)\n",
        "print(\"Training Model 4: Optimized Neural Network - Instance 3\")\n",
        "print(\"=\" * 60)\n",
        "\n",
        "# Clear previous model\n",
        "tf.keras.backend.clear_session()\n",
        "gc.collect()\n",
        "\n",
        "# Optimized model with L1 regularization and BatchNormalization\n",
        "model_opt2 = Sequential([\n",
        "    Conv2D(16, (3,3), activation='relu', input_shape=input_shape),\n",
        "    BatchNormalization(),\n",
        "    MaxPooling2D(2, 2),\n",
        "    Conv2D(32, (3,3), activation='relu', kernel_regularizer=l1(0.01)),\n",
        "    BatchNormalization(),\n",
        "    MaxPooling2D(2, 2),\n",
        "    Dropout(0.4),\n",
        "    Conv2D(64, (3,3), activation='relu', kernel_regularizer=l1(0.01)),\n",
        "    BatchNormalization(),\n",
        "    Dropout(0.4),\n",
        "    Flatten(),\n",
        "    Dense(64, activation='relu', kernel_regularizer=l1(0.01)),\n",
        "    Dropout(0.6),\n",
        "    Dense(1, activation='sigmoid')\n",
        "])\n",
        "\n",
        "# Compile with RMSprop optimizer\n",
        "optimizer_rmsprop = RMSprop(learning_rate=0.001)\n",
        "model_opt2.compile(\n",
        "    optimizer=optimizer_rmsprop,\n",
        "    loss='binary_crossentropy',\n",
        "    metrics=['accuracy', 'precision', 'recall']\n",
        ")\n",
        "\n",
        "# Early stopping with different patience\n",
        "early_stopping_2 = EarlyStopping(\n",
        "    monitor='val_accuracy',\n",
        "    patience=15,\n",
        "    restore_best_weights=True,\n",
        "    verbose=1\n",
        ")\n",
        "\n",
        "print(model_opt2.summary())\n",
        "\n",
        "# Train with early stopping\n",
        "history_opt2 = model_opt2.fit(\n",
        "    train_dataset,\n",
        "    epochs=25,\n",
        "    validation_data=val_dataset,\n",
        "    callbacks=[early_stopping_2],\n",
        "    verbose=1\n",
        ")\n",
        "\n",
        "# Evaluate\n",
        "train_loss_opt2, train_acc_opt2, train_prec_opt2, train_rec_opt2 = model_opt2.evaluate(train_dataset, verbose=0)\n",
        "val_loss_opt2, val_acc_opt2, val_prec_opt2, val_rec_opt2 = model_opt2.evaluate(val_dataset, verbose=0)\n",
        "test_loss_opt2, test_acc_opt2, test_prec_opt2, test_rec_opt2 = model_opt2.evaluate(test_dataset, verbose=0)\n",
        "\n",
        "# Calculate F1 scores\n",
        "train_f1_opt2 = 2 * (train_prec_opt2 * train_rec_opt2) / (train_prec_opt2 + train_rec_opt2 + 1e-7)\n",
        "val_f1_opt2 = 2 * (val_prec_opt2 * val_rec_opt2) / (val_prec_opt2 + val_rec_opt2 + 1e-7)\n",
        "test_f1_opt2 = 2 * (test_prec_opt2 * test_rec_opt2) / (test_prec_opt2 + test_rec_opt2 + 1e-7)\n",
        "\n",
        "print(f\"\\nOptimized Neural Network Instance 3 Results:\")\n",
        "print(f\"Training - Acc: {train_acc_opt2:.3f}, F1: {train_f1_opt2:.3f}, Precision: {train_prec_opt2:.3f}, Recall: {train_rec_opt2:.3f}\")\n",
        "print(f\"Validation - Acc: {val_acc_opt2:.3f}, F1: {val_f1_opt2:.3f}, Precision: {val_prec_opt2:.3f}, Recall: {val_rec_opt2:.3f}\")\n",
        "print(f\"Test - Acc: {test_acc_opt2:.3f}, F1: {test_f1_opt2:.3f}, Precision: {test_prec_opt2:.3f}, Recall: {test_rec_opt2:.3f}\")\n",
        "\n",
        "# Save model\n",
        "model_opt2.save('saved_models/optimized_nn_instance3.h5')\n",
        "print(\"Model saved as 'optimized_nn_instance3.h5'\")\n",
        "\n",
        "# Add to results table\n",
        "results_table.append({\n",
        "    'Instance': 'Instance 3 (Opt)',\n",
        "    'Optimizer': 'RMSprop',\n",
        "    'Regularizer': 'L1 (0.01) + BatchNorm',\n",
        "    'Epochs': len(history_opt2.history['loss']),\n",
        "    'Early_Stopping': 'Yes',\n",
        "    'Layers': 9,\n",
        "    'Learning_Rate': 0.001,\n",
        "    'Accuracy': f\"{test_acc_opt2:.3f}\",\n",
        "    'F1_Score': f\"{test_f1_opt2:.3f}\",\n",
        "    'Precision': f\"{test_prec_opt2:.3f}\",\n",
        "    'Recall': f\"{test_rec_opt2:.3f}\",\n",
        "    'Loss': f\"{test_loss_opt2:.3f}\"\n",
        "})"
      ],
      "metadata": {
        "colab": {
          "base_uri": "https://localhost:8080/",
          "height": 1000
        },
        "id": "5QspaGAR_BrN",
        "outputId": "cc71a156-39d2-4faa-edf2-50824bd561da"
      },
      "execution_count": 10,
      "outputs": [
        {
          "output_type": "stream",
          "name": "stdout",
          "text": [
            "Training Model 4: Optimized Neural Network - Instance 3\n",
            "============================================================\n"
          ]
        },
        {
          "output_type": "display_data",
          "data": {
            "text/plain": [
              "\u001b[1mModel: \"sequential\"\u001b[0m\n"
            ],
            "text/html": [
              "<pre style=\"white-space:pre;overflow-x:auto;line-height:normal;font-family:Menlo,'DejaVu Sans Mono',consolas,'Courier New',monospace\"><span style=\"font-weight: bold\">Model: \"sequential\"</span>\n",
              "</pre>\n"
            ]
          },
          "metadata": {}
        },
        {
          "output_type": "display_data",
          "data": {
            "text/plain": [
              "┏━━━━━━━━━━━━━━━━━━━━━━━━━━━━━━━━━┳━━━━━━━━━━━━━━━━━━━━━━━━┳━━━━━━━━━━━━━━━┓\n",
              "┃\u001b[1m \u001b[0m\u001b[1mLayer (type)                   \u001b[0m\u001b[1m \u001b[0m┃\u001b[1m \u001b[0m\u001b[1mOutput Shape          \u001b[0m\u001b[1m \u001b[0m┃\u001b[1m \u001b[0m\u001b[1m      Param #\u001b[0m\u001b[1m \u001b[0m┃\n",
              "┡━━━━━━━━━━━━━━━━━━━━━━━━━━━━━━━━━╇━━━━━━━━━━━━━━━━━━━━━━━━╇━━━━━━━━━━━━━━━┩\n",
              "│ conv2d (\u001b[38;5;33mConv2D\u001b[0m)                 │ (\u001b[38;5;45mNone\u001b[0m, \u001b[38;5;34m60\u001b[0m, \u001b[38;5;34m127\u001b[0m, \u001b[38;5;34m16\u001b[0m)    │           \u001b[38;5;34m160\u001b[0m │\n",
              "├─────────────────────────────────┼────────────────────────┼───────────────┤\n",
              "│ batch_normalization             │ (\u001b[38;5;45mNone\u001b[0m, \u001b[38;5;34m60\u001b[0m, \u001b[38;5;34m127\u001b[0m, \u001b[38;5;34m16\u001b[0m)    │            \u001b[38;5;34m64\u001b[0m │\n",
              "│ (\u001b[38;5;33mBatchNormalization\u001b[0m)            │                        │               │\n",
              "├─────────────────────────────────┼────────────────────────┼───────────────┤\n",
              "│ max_pooling2d (\u001b[38;5;33mMaxPooling2D\u001b[0m)    │ (\u001b[38;5;45mNone\u001b[0m, \u001b[38;5;34m30\u001b[0m, \u001b[38;5;34m63\u001b[0m, \u001b[38;5;34m16\u001b[0m)     │             \u001b[38;5;34m0\u001b[0m │\n",
              "├─────────────────────────────────┼────────────────────────┼───────────────┤\n",
              "│ conv2d_1 (\u001b[38;5;33mConv2D\u001b[0m)               │ (\u001b[38;5;45mNone\u001b[0m, \u001b[38;5;34m28\u001b[0m, \u001b[38;5;34m61\u001b[0m, \u001b[38;5;34m32\u001b[0m)     │         \u001b[38;5;34m4,640\u001b[0m │\n",
              "├─────────────────────────────────┼────────────────────────┼───────────────┤\n",
              "│ batch_normalization_1           │ (\u001b[38;5;45mNone\u001b[0m, \u001b[38;5;34m28\u001b[0m, \u001b[38;5;34m61\u001b[0m, \u001b[38;5;34m32\u001b[0m)     │           \u001b[38;5;34m128\u001b[0m │\n",
              "│ (\u001b[38;5;33mBatchNormalization\u001b[0m)            │                        │               │\n",
              "├─────────────────────────────────┼────────────────────────┼───────────────┤\n",
              "│ max_pooling2d_1 (\u001b[38;5;33mMaxPooling2D\u001b[0m)  │ (\u001b[38;5;45mNone\u001b[0m, \u001b[38;5;34m14\u001b[0m, \u001b[38;5;34m30\u001b[0m, \u001b[38;5;34m32\u001b[0m)     │             \u001b[38;5;34m0\u001b[0m │\n",
              "├─────────────────────────────────┼────────────────────────┼───────────────┤\n",
              "│ dropout (\u001b[38;5;33mDropout\u001b[0m)               │ (\u001b[38;5;45mNone\u001b[0m, \u001b[38;5;34m14\u001b[0m, \u001b[38;5;34m30\u001b[0m, \u001b[38;5;34m32\u001b[0m)     │             \u001b[38;5;34m0\u001b[0m │\n",
              "├─────────────────────────────────┼────────────────────────┼───────────────┤\n",
              "│ conv2d_2 (\u001b[38;5;33mConv2D\u001b[0m)               │ (\u001b[38;5;45mNone\u001b[0m, \u001b[38;5;34m12\u001b[0m, \u001b[38;5;34m28\u001b[0m, \u001b[38;5;34m64\u001b[0m)     │        \u001b[38;5;34m18,496\u001b[0m │\n",
              "├─────────────────────────────────┼────────────────────────┼───────────────┤\n",
              "│ batch_normalization_2           │ (\u001b[38;5;45mNone\u001b[0m, \u001b[38;5;34m12\u001b[0m, \u001b[38;5;34m28\u001b[0m, \u001b[38;5;34m64\u001b[0m)     │           \u001b[38;5;34m256\u001b[0m │\n",
              "│ (\u001b[38;5;33mBatchNormalization\u001b[0m)            │                        │               │\n",
              "├─────────────────────────────────┼────────────────────────┼───────────────┤\n",
              "│ dropout_1 (\u001b[38;5;33mDropout\u001b[0m)             │ (\u001b[38;5;45mNone\u001b[0m, \u001b[38;5;34m12\u001b[0m, \u001b[38;5;34m28\u001b[0m, \u001b[38;5;34m64\u001b[0m)     │             \u001b[38;5;34m0\u001b[0m │\n",
              "├─────────────────────────────────┼────────────────────────┼───────────────┤\n",
              "│ flatten (\u001b[38;5;33mFlatten\u001b[0m)               │ (\u001b[38;5;45mNone\u001b[0m, \u001b[38;5;34m21504\u001b[0m)          │             \u001b[38;5;34m0\u001b[0m │\n",
              "├─────────────────────────────────┼────────────────────────┼───────────────┤\n",
              "│ dense (\u001b[38;5;33mDense\u001b[0m)                   │ (\u001b[38;5;45mNone\u001b[0m, \u001b[38;5;34m64\u001b[0m)             │     \u001b[38;5;34m1,376,320\u001b[0m │\n",
              "├─────────────────────────────────┼────────────────────────┼───────────────┤\n",
              "│ dropout_2 (\u001b[38;5;33mDropout\u001b[0m)             │ (\u001b[38;5;45mNone\u001b[0m, \u001b[38;5;34m64\u001b[0m)             │             \u001b[38;5;34m0\u001b[0m │\n",
              "├─────────────────────────────────┼────────────────────────┼───────────────┤\n",
              "│ dense_1 (\u001b[38;5;33mDense\u001b[0m)                 │ (\u001b[38;5;45mNone\u001b[0m, \u001b[38;5;34m1\u001b[0m)              │            \u001b[38;5;34m65\u001b[0m │\n",
              "└─────────────────────────────────┴────────────────────────┴───────────────┘\n"
            ],
            "text/html": [
              "<pre style=\"white-space:pre;overflow-x:auto;line-height:normal;font-family:Menlo,'DejaVu Sans Mono',consolas,'Courier New',monospace\">┏━━━━━━━━━━━━━━━━━━━━━━━━━━━━━━━━━┳━━━━━━━━━━━━━━━━━━━━━━━━┳━━━━━━━━━━━━━━━┓\n",
              "┃<span style=\"font-weight: bold\"> Layer (type)                    </span>┃<span style=\"font-weight: bold\"> Output Shape           </span>┃<span style=\"font-weight: bold\">       Param # </span>┃\n",
              "┡━━━━━━━━━━━━━━━━━━━━━━━━━━━━━━━━━╇━━━━━━━━━━━━━━━━━━━━━━━━╇━━━━━━━━━━━━━━━┩\n",
              "│ conv2d (<span style=\"color: #0087ff; text-decoration-color: #0087ff\">Conv2D</span>)                 │ (<span style=\"color: #00d7ff; text-decoration-color: #00d7ff\">None</span>, <span style=\"color: #00af00; text-decoration-color: #00af00\">60</span>, <span style=\"color: #00af00; text-decoration-color: #00af00\">127</span>, <span style=\"color: #00af00; text-decoration-color: #00af00\">16</span>)    │           <span style=\"color: #00af00; text-decoration-color: #00af00\">160</span> │\n",
              "├─────────────────────────────────┼────────────────────────┼───────────────┤\n",
              "│ batch_normalization             │ (<span style=\"color: #00d7ff; text-decoration-color: #00d7ff\">None</span>, <span style=\"color: #00af00; text-decoration-color: #00af00\">60</span>, <span style=\"color: #00af00; text-decoration-color: #00af00\">127</span>, <span style=\"color: #00af00; text-decoration-color: #00af00\">16</span>)    │            <span style=\"color: #00af00; text-decoration-color: #00af00\">64</span> │\n",
              "│ (<span style=\"color: #0087ff; text-decoration-color: #0087ff\">BatchNormalization</span>)            │                        │               │\n",
              "├─────────────────────────────────┼────────────────────────┼───────────────┤\n",
              "│ max_pooling2d (<span style=\"color: #0087ff; text-decoration-color: #0087ff\">MaxPooling2D</span>)    │ (<span style=\"color: #00d7ff; text-decoration-color: #00d7ff\">None</span>, <span style=\"color: #00af00; text-decoration-color: #00af00\">30</span>, <span style=\"color: #00af00; text-decoration-color: #00af00\">63</span>, <span style=\"color: #00af00; text-decoration-color: #00af00\">16</span>)     │             <span style=\"color: #00af00; text-decoration-color: #00af00\">0</span> │\n",
              "├─────────────────────────────────┼────────────────────────┼───────────────┤\n",
              "│ conv2d_1 (<span style=\"color: #0087ff; text-decoration-color: #0087ff\">Conv2D</span>)               │ (<span style=\"color: #00d7ff; text-decoration-color: #00d7ff\">None</span>, <span style=\"color: #00af00; text-decoration-color: #00af00\">28</span>, <span style=\"color: #00af00; text-decoration-color: #00af00\">61</span>, <span style=\"color: #00af00; text-decoration-color: #00af00\">32</span>)     │         <span style=\"color: #00af00; text-decoration-color: #00af00\">4,640</span> │\n",
              "├─────────────────────────────────┼────────────────────────┼───────────────┤\n",
              "│ batch_normalization_1           │ (<span style=\"color: #00d7ff; text-decoration-color: #00d7ff\">None</span>, <span style=\"color: #00af00; text-decoration-color: #00af00\">28</span>, <span style=\"color: #00af00; text-decoration-color: #00af00\">61</span>, <span style=\"color: #00af00; text-decoration-color: #00af00\">32</span>)     │           <span style=\"color: #00af00; text-decoration-color: #00af00\">128</span> │\n",
              "│ (<span style=\"color: #0087ff; text-decoration-color: #0087ff\">BatchNormalization</span>)            │                        │               │\n",
              "├─────────────────────────────────┼────────────────────────┼───────────────┤\n",
              "│ max_pooling2d_1 (<span style=\"color: #0087ff; text-decoration-color: #0087ff\">MaxPooling2D</span>)  │ (<span style=\"color: #00d7ff; text-decoration-color: #00d7ff\">None</span>, <span style=\"color: #00af00; text-decoration-color: #00af00\">14</span>, <span style=\"color: #00af00; text-decoration-color: #00af00\">30</span>, <span style=\"color: #00af00; text-decoration-color: #00af00\">32</span>)     │             <span style=\"color: #00af00; text-decoration-color: #00af00\">0</span> │\n",
              "├─────────────────────────────────┼────────────────────────┼───────────────┤\n",
              "│ dropout (<span style=\"color: #0087ff; text-decoration-color: #0087ff\">Dropout</span>)               │ (<span style=\"color: #00d7ff; text-decoration-color: #00d7ff\">None</span>, <span style=\"color: #00af00; text-decoration-color: #00af00\">14</span>, <span style=\"color: #00af00; text-decoration-color: #00af00\">30</span>, <span style=\"color: #00af00; text-decoration-color: #00af00\">32</span>)     │             <span style=\"color: #00af00; text-decoration-color: #00af00\">0</span> │\n",
              "├─────────────────────────────────┼────────────────────────┼───────────────┤\n",
              "│ conv2d_2 (<span style=\"color: #0087ff; text-decoration-color: #0087ff\">Conv2D</span>)               │ (<span style=\"color: #00d7ff; text-decoration-color: #00d7ff\">None</span>, <span style=\"color: #00af00; text-decoration-color: #00af00\">12</span>, <span style=\"color: #00af00; text-decoration-color: #00af00\">28</span>, <span style=\"color: #00af00; text-decoration-color: #00af00\">64</span>)     │        <span style=\"color: #00af00; text-decoration-color: #00af00\">18,496</span> │\n",
              "├─────────────────────────────────┼────────────────────────┼───────────────┤\n",
              "│ batch_normalization_2           │ (<span style=\"color: #00d7ff; text-decoration-color: #00d7ff\">None</span>, <span style=\"color: #00af00; text-decoration-color: #00af00\">12</span>, <span style=\"color: #00af00; text-decoration-color: #00af00\">28</span>, <span style=\"color: #00af00; text-decoration-color: #00af00\">64</span>)     │           <span style=\"color: #00af00; text-decoration-color: #00af00\">256</span> │\n",
              "│ (<span style=\"color: #0087ff; text-decoration-color: #0087ff\">BatchNormalization</span>)            │                        │               │\n",
              "├─────────────────────────────────┼────────────────────────┼───────────────┤\n",
              "│ dropout_1 (<span style=\"color: #0087ff; text-decoration-color: #0087ff\">Dropout</span>)             │ (<span style=\"color: #00d7ff; text-decoration-color: #00d7ff\">None</span>, <span style=\"color: #00af00; text-decoration-color: #00af00\">12</span>, <span style=\"color: #00af00; text-decoration-color: #00af00\">28</span>, <span style=\"color: #00af00; text-decoration-color: #00af00\">64</span>)     │             <span style=\"color: #00af00; text-decoration-color: #00af00\">0</span> │\n",
              "├─────────────────────────────────┼────────────────────────┼───────────────┤\n",
              "│ flatten (<span style=\"color: #0087ff; text-decoration-color: #0087ff\">Flatten</span>)               │ (<span style=\"color: #00d7ff; text-decoration-color: #00d7ff\">None</span>, <span style=\"color: #00af00; text-decoration-color: #00af00\">21504</span>)          │             <span style=\"color: #00af00; text-decoration-color: #00af00\">0</span> │\n",
              "├─────────────────────────────────┼────────────────────────┼───────────────┤\n",
              "│ dense (<span style=\"color: #0087ff; text-decoration-color: #0087ff\">Dense</span>)                   │ (<span style=\"color: #00d7ff; text-decoration-color: #00d7ff\">None</span>, <span style=\"color: #00af00; text-decoration-color: #00af00\">64</span>)             │     <span style=\"color: #00af00; text-decoration-color: #00af00\">1,376,320</span> │\n",
              "├─────────────────────────────────┼────────────────────────┼───────────────┤\n",
              "│ dropout_2 (<span style=\"color: #0087ff; text-decoration-color: #0087ff\">Dropout</span>)             │ (<span style=\"color: #00d7ff; text-decoration-color: #00d7ff\">None</span>, <span style=\"color: #00af00; text-decoration-color: #00af00\">64</span>)             │             <span style=\"color: #00af00; text-decoration-color: #00af00\">0</span> │\n",
              "├─────────────────────────────────┼────────────────────────┼───────────────┤\n",
              "│ dense_1 (<span style=\"color: #0087ff; text-decoration-color: #0087ff\">Dense</span>)                 │ (<span style=\"color: #00d7ff; text-decoration-color: #00d7ff\">None</span>, <span style=\"color: #00af00; text-decoration-color: #00af00\">1</span>)              │            <span style=\"color: #00af00; text-decoration-color: #00af00\">65</span> │\n",
              "└─────────────────────────────────┴────────────────────────┴───────────────┘\n",
              "</pre>\n"
            ]
          },
          "metadata": {}
        },
        {
          "output_type": "display_data",
          "data": {
            "text/plain": [
              "\u001b[1m Total params: \u001b[0m\u001b[38;5;34m1,400,129\u001b[0m (5.34 MB)\n"
            ],
            "text/html": [
              "<pre style=\"white-space:pre;overflow-x:auto;line-height:normal;font-family:Menlo,'DejaVu Sans Mono',consolas,'Courier New',monospace\"><span style=\"font-weight: bold\"> Total params: </span><span style=\"color: #00af00; text-decoration-color: #00af00\">1,400,129</span> (5.34 MB)\n",
              "</pre>\n"
            ]
          },
          "metadata": {}
        },
        {
          "output_type": "display_data",
          "data": {
            "text/plain": [
              "\u001b[1m Trainable params: \u001b[0m\u001b[38;5;34m1,399,905\u001b[0m (5.34 MB)\n"
            ],
            "text/html": [
              "<pre style=\"white-space:pre;overflow-x:auto;line-height:normal;font-family:Menlo,'DejaVu Sans Mono',consolas,'Courier New',monospace\"><span style=\"font-weight: bold\"> Trainable params: </span><span style=\"color: #00af00; text-decoration-color: #00af00\">1,399,905</span> (5.34 MB)\n",
              "</pre>\n"
            ]
          },
          "metadata": {}
        },
        {
          "output_type": "display_data",
          "data": {
            "text/plain": [
              "\u001b[1m Non-trainable params: \u001b[0m\u001b[38;5;34m224\u001b[0m (896.00 B)\n"
            ],
            "text/html": [
              "<pre style=\"white-space:pre;overflow-x:auto;line-height:normal;font-family:Menlo,'DejaVu Sans Mono',consolas,'Courier New',monospace\"><span style=\"font-weight: bold\"> Non-trainable params: </span><span style=\"color: #00af00; text-decoration-color: #00af00\">224</span> (896.00 B)\n",
              "</pre>\n"
            ]
          },
          "metadata": {}
        },
        {
          "output_type": "stream",
          "name": "stdout",
          "text": [
            "None\n",
            "Epoch 1/25\n",
            "\u001b[1m8/8\u001b[0m \u001b[32m━━━━━━━━━━━━━━━━━━━━\u001b[0m\u001b[37m\u001b[0m \u001b[1m4s\u001b[0m 198ms/step - accuracy: 0.5495 - loss: 93.3836 - precision: 0.5410 - recall: 0.4760 - val_accuracy: 1.0000 - val_loss: 36.1976 - val_precision: 1.0000 - val_recall: 1.0000\n",
            "Epoch 2/25\n",
            "\u001b[1m8/8\u001b[0m \u001b[32m━━━━━━━━━━━━━━━━━━━━\u001b[0m\u001b[37m\u001b[0m \u001b[1m1s\u001b[0m 136ms/step - accuracy: 0.7674 - loss: 31.7839 - precision: 0.8504 - recall: 0.6800 - val_accuracy: 0.6000 - val_loss: 25.0132 - val_precision: 0.5556 - val_recall: 1.0000\n",
            "Epoch 3/25\n",
            "\u001b[1m8/8\u001b[0m \u001b[32m━━━━━━━━━━━━━━━━━━━━\u001b[0m\u001b[37m\u001b[0m \u001b[1m1s\u001b[0m 132ms/step - accuracy: 0.8414 - loss: 23.6858 - precision: 0.8628 - recall: 0.8286 - val_accuracy: 0.9000 - val_loss: 20.1740 - val_precision: 1.0000 - val_recall: 0.8000\n",
            "Epoch 4/25\n",
            "\u001b[1m8/8\u001b[0m \u001b[32m━━━━━━━━━━━━━━━━━━━━\u001b[0m\u001b[37m\u001b[0m \u001b[1m3s\u001b[0m 339ms/step - accuracy: 0.9037 - loss: 19.6326 - precision: 0.9504 - recall: 0.8620 - val_accuracy: 0.8500 - val_loss: 22.1125 - val_precision: 1.0000 - val_recall: 0.7000\n",
            "Epoch 5/25\n",
            "\u001b[1m8/8\u001b[0m \u001b[32m━━━━━━━━━━━━━━━━━━━━\u001b[0m\u001b[37m\u001b[0m \u001b[1m1s\u001b[0m 123ms/step - accuracy: 0.8944 - loss: 20.0703 - precision: 0.9173 - recall: 0.8793 - val_accuracy: 0.8000 - val_loss: 17.0195 - val_precision: 1.0000 - val_recall: 0.6000\n",
            "Epoch 6/25\n",
            "\u001b[1m8/8\u001b[0m \u001b[32m━━━━━━━━━━━━━━━━━━━━\u001b[0m\u001b[37m\u001b[0m \u001b[1m1s\u001b[0m 156ms/step - accuracy: 0.9027 - loss: 16.6069 - precision: 0.9474 - recall: 0.8652 - val_accuracy: 0.9500 - val_loss: 15.6209 - val_precision: 1.0000 - val_recall: 0.9000\n",
            "Epoch 7/25\n",
            "\u001b[1m8/8\u001b[0m \u001b[32m━━━━━━━━━━━━━━━━━━━━\u001b[0m\u001b[37m\u001b[0m \u001b[1m1s\u001b[0m 118ms/step - accuracy: 0.8495 - loss: 15.8635 - precision: 0.8828 - recall: 0.8305 - val_accuracy: 0.5500 - val_loss: 15.4632 - val_precision: 1.0000 - val_recall: 0.1000\n",
            "Epoch 8/25\n",
            "\u001b[1m8/8\u001b[0m \u001b[32m━━━━━━━━━━━━━━━━━━━━\u001b[0m\u001b[37m\u001b[0m \u001b[1m1s\u001b[0m 116ms/step - accuracy: 0.8709 - loss: 14.7506 - precision: 0.8790 - recall: 0.8857 - val_accuracy: 0.5000 - val_loss: 13.8053 - val_precision: 0.0000e+00 - val_recall: 0.0000e+00\n",
            "Epoch 9/25\n",
            "\u001b[1m8/8\u001b[0m \u001b[32m━━━━━━━━━━━━━━━━━━━━\u001b[0m\u001b[37m\u001b[0m \u001b[1m1s\u001b[0m 111ms/step - accuracy: 0.8815 - loss: 13.4913 - precision: 0.8854 - recall: 0.8937 - val_accuracy: 0.6500 - val_loss: 12.3166 - val_precision: 1.0000 - val_recall: 0.3000\n",
            "Epoch 10/25\n",
            "\u001b[1m8/8\u001b[0m \u001b[32m━━━━━━━━━━━━━━━━━━━━\u001b[0m\u001b[37m\u001b[0m \u001b[1m1s\u001b[0m 127ms/step - accuracy: 0.9220 - loss: 12.9962 - precision: 0.9827 - recall: 0.8659 - val_accuracy: 0.5000 - val_loss: 14.1302 - val_precision: 0.0000e+00 - val_recall: 0.0000e+00\n",
            "Epoch 11/25\n",
            "\u001b[1m8/8\u001b[0m \u001b[32m━━━━━━━━━━━━━━━━━━━━\u001b[0m\u001b[37m\u001b[0m \u001b[1m3s\u001b[0m 308ms/step - accuracy: 0.8611 - loss: 13.4475 - precision: 0.8559 - recall: 0.8969 - val_accuracy: 0.5000 - val_loss: 13.1639 - val_precision: 0.0000e+00 - val_recall: 0.0000e+00\n",
            "Epoch 12/25\n",
            "\u001b[1m8/8\u001b[0m \u001b[32m━━━━━━━━━━━━━━━━━━━━\u001b[0m\u001b[37m\u001b[0m \u001b[1m1s\u001b[0m 154ms/step - accuracy: 0.9065 - loss: 12.3286 - precision: 0.9710 - recall: 0.8483 - val_accuracy: 0.6500 - val_loss: 10.8533 - val_precision: 1.0000 - val_recall: 0.3000\n",
            "Epoch 13/25\n",
            "\u001b[1m8/8\u001b[0m \u001b[32m━━━━━━━━━━━━━━━━━━━━\u001b[0m\u001b[37m\u001b[0m \u001b[1m2s\u001b[0m 190ms/step - accuracy: 0.9121 - loss: 11.5374 - precision: 0.9168 - recall: 0.9180 - val_accuracy: 0.9000 - val_loss: 11.7850 - val_precision: 1.0000 - val_recall: 0.8000\n",
            "Epoch 14/25\n",
            "\u001b[1m8/8\u001b[0m \u001b[32m━━━━━━━━━━━━━━━━━━━━\u001b[0m\u001b[37m\u001b[0m \u001b[1m1s\u001b[0m 127ms/step - accuracy: 0.9662 - loss: 10.9800 - precision: 1.0000 - recall: 0.9359 - val_accuracy: 0.5000 - val_loss: 10.5058 - val_precision: 0.0000e+00 - val_recall: 0.0000e+00\n",
            "Epoch 15/25\n",
            "\u001b[1m8/8\u001b[0m \u001b[32m━━━━━━━━━━━━━━━━━━━━\u001b[0m\u001b[37m\u001b[0m \u001b[1m1s\u001b[0m 124ms/step - accuracy: 0.9076 - loss: 10.3863 - precision: 1.0000 - recall: 0.8249 - val_accuracy: 0.6500 - val_loss: 10.4180 - val_precision: 1.0000 - val_recall: 0.3000\n",
            "Epoch 16/25\n",
            "\u001b[1m8/8\u001b[0m \u001b[32m━━━━━━━━━━━━━━━━━━━━\u001b[0m\u001b[37m\u001b[0m \u001b[1m1s\u001b[0m 115ms/step - accuracy: 0.9568 - loss: 10.1172 - precision: 0.9921 - recall: 0.9247 - val_accuracy: 0.5000 - val_loss: 14.4444 - val_precision: 0.0000e+00 - val_recall: 0.0000e+00\n",
            "Epoch 16: early stopping\n",
            "Restoring model weights from the end of the best epoch: 1.\n"
          ]
        },
        {
          "output_type": "stream",
          "name": "stderr",
          "text": [
            "WARNING:absl:You are saving your model as an HDF5 file via `model.save()` or `keras.saving.save_model(model)`. This file format is considered legacy. We recommend using instead the native Keras format, e.g. `model.save('my_model.keras')` or `keras.saving.save_model(model, 'my_model.keras')`. \n"
          ]
        },
        {
          "output_type": "stream",
          "name": "stdout",
          "text": [
            "\n",
            "Optimized Neural Network Instance 3 Results:\n",
            "Training - Acc: 0.933, F1: 0.931, Precision: 0.964, Recall: 0.900\n",
            "Validation - Acc: 1.000, F1: 1.000, Precision: 1.000, Recall: 1.000\n",
            "Test - Acc: 0.950, F1: 0.947, Precision: 1.000, Recall: 0.900\n",
            "Model saved as 'optimized_nn_instance3.h5'\n"
          ]
        }
      ]
    },
    {
      "cell_type": "code",
      "source": [
        "# Cell 9: Model 5 - Advanced Optimized Neural Network Instance 4 (SGD + L1L2 + Advanced Architecture)\n",
        "print(\"Training Model 5: Advanced Optimized Neural Network - Instance 4\")\n",
        "print(\"=\" * 70)\n",
        "\n",
        "# Clear previous model\n",
        "tf.keras.backend.clear_session()\n",
        "gc.collect()\n",
        "\n",
        "# Advanced optimized model with L1L2 regularization\n",
        "model_opt3 = Sequential([\n",
        "    Conv2D(32, (3,3), activation='relu', input_shape=input_shape),\n",
        "    BatchNormalization(),\n",
        "    Conv2D(32, (3,3), activation='relu', kernel_regularizer=l1_l2(l1=0.005, l2=0.005)),\n",
        "    MaxPooling2D(2, 2),\n",
        "    Dropout(0.25),\n",
        "\n",
        "    Conv2D(64, (3,3), activation='relu', kernel_regularizer=l1_l2(l1=0.005, l2=0.005)),\n",
        "    BatchNormalization(),\n",
        "    Conv2D(64, (3,3), activation='relu', kernel_regularizer=l1_l2(l1=0.005, l2=0.005)),\n",
        "    MaxPooling2D(2, 2),\n",
        "    Dropout(0.35),\n",
        "\n",
        "    Conv2D(128, (3,3), activation='relu', kernel_regularizer=l1_l2(l1=0.005, l2=0.005)),\n",
        "    BatchNormalization(),\n",
        "    Dropout(0.4),\n",
        "\n",
        "    Flatten(),\n",
        "    Dense(256, activation='relu', kernel_regularizer=l1_l2(l1=0.01, l2=0.01)),\n",
        "    Dropout(0.6),\n",
        "    Dense(128, activation='relu', kernel_regularizer=l1_l2(l1=0.01, l2=0.01)),\n",
        "    Dropout(0.5),\n",
        "    Dense(1, activation='sigmoid')\n",
        "])\n",
        "\n",
        "# Compile with SGD optimizer - without custom F1 metric first\n",
        "optimizer_sgd = SGD(learning_rate=0.01, momentum=0.9)\n",
        "model_opt3.compile(\n",
        "    optimizer=optimizer_sgd,\n",
        "    loss='binary_crossentropy',\n",
        "    metrics=['accuracy', 'precision', 'recall']\n",
        ")\n",
        "\n",
        "# Early stopping callback (monitoring val_loss instead of val_f1_score)\n",
        "early_stopping_3 = EarlyStopping(\n",
        "    monitor='val_loss',\n",
        "    patience=15,\n",
        "    restore_best_weights=True,\n",
        "    verbose=1,\n",
        "    mode='min'\n",
        ")\n",
        "\n",
        "print(model_opt3.summary())\n",
        "\n",
        "# Train with callbacks\n",
        "history_opt3 = model_opt3.fit(\n",
        "    train_dataset,\n",
        "    epochs=30,\n",
        "    validation_data=val_dataset,\n",
        "    callbacks=[early_stopping_3],\n",
        "    verbose=1\n",
        ")\n",
        "\n",
        "# Evaluate\n",
        "train_loss_opt3, train_acc_opt3, train_prec_opt3, train_rec_opt3 = model_opt3.evaluate(train_dataset, verbose=0)\n",
        "val_loss_opt3, val_acc_opt3, val_prec_opt3, val_rec_opt3 = model_opt3.evaluate(val_dataset, verbose=0)\n",
        "test_loss_opt3, test_acc_opt3, test_prec_opt3, test_rec_opt3 = model_opt3.evaluate(test_dataset, verbose=0)\n",
        "\n",
        "# Calculate F1 scores manually\n",
        "train_f1_opt3 = 2 * (train_prec_opt3 * train_rec_opt3) / (train_prec_opt3 + train_rec_opt3 + 1e-7)\n",
        "val_f1_opt3 = 2 * (val_prec_opt3 * val_rec_opt3) / (val_prec_opt3 + val_rec_opt3 + 1e-7)\n",
        "test_f1_opt3 = 2 * (test_prec_opt3 * test_rec_opt3) / (test_prec_opt3 + test_rec_opt3 + 1e-7)\n",
        "\n",
        "print(f\"\\nAdvanced Optimized Neural Network Instance 4 Results:\")\n",
        "print(f\"Training - Acc: {train_acc_opt3:.3f}, F1: {train_f1_opt3:.3f}, Precision: {train_prec_opt3:.3f}, Recall: {train_rec_opt3:.3f}\")\n",
        "print(f\"Validation - Acc: {val_acc_opt3:.3f}, F1: {val_f1_opt3:.3f}, Precision: {val_prec_opt3:.3f}, Recall: {val_rec_opt3:.3f}\")\n",
        "print(f\"Test - Acc: {test_acc_opt3:.3f}, F1: {test_f1_opt3:.3f}, Precision: {test_prec_opt3:.3f}, Recall: {test_rec_opt3:.3f}\")\n",
        "\n",
        "# Save model\n",
        "model_opt3.save('saved_models/advanced_optimized_nn_instance4.h5')\n",
        "print(\"Model saved as 'advanced_optimized_nn_instance4.h5'\")\n",
        "\n",
        "# Add to results table\n",
        "results_table.append({\n",
        "    'Instance': 'Instance 4 (Advanced)',\n",
        "    'Optimizer': 'SGD',\n",
        "    'Regularizer': 'L1L2 (0.005, 0.005)',\n",
        "    'Epochs': len(history_opt3.history['loss']),\n",
        "    'Early_Stopping': 'Yes',\n",
        "    'Layers': 12,\n",
        "    'Learning_Rate': 0.01,\n",
        "    'Accuracy': f\"{test_acc_opt3:.3f}\",\n",
        "    'F1_Score': f\"{test_f1_opt3:.3f}\",\n",
        "    'Precision': f\"{test_prec_opt3:.3f}\",\n",
        "    'Recall': f\"{test_rec_opt3:.3f}\",\n",
        "    'Loss': f\"{test_loss_opt3:.3f}\"\n",
        "})"
      ],
      "metadata": {
        "colab": {
          "base_uri": "https://localhost:8080/",
          "height": 1000
        },
        "id": "NKdykUwA_obK",
        "outputId": "2a92e17d-8adb-4405-d55d-e41a3412d376"
      },
      "execution_count": 12,
      "outputs": [
        {
          "output_type": "stream",
          "name": "stdout",
          "text": [
            "Training Model 5: Advanced Optimized Neural Network - Instance 4\n",
            "======================================================================\n"
          ]
        },
        {
          "output_type": "display_data",
          "data": {
            "text/plain": [
              "\u001b[1mModel: \"sequential\"\u001b[0m\n"
            ],
            "text/html": [
              "<pre style=\"white-space:pre;overflow-x:auto;line-height:normal;font-family:Menlo,'DejaVu Sans Mono',consolas,'Courier New',monospace\"><span style=\"font-weight: bold\">Model: \"sequential\"</span>\n",
              "</pre>\n"
            ]
          },
          "metadata": {}
        },
        {
          "output_type": "display_data",
          "data": {
            "text/plain": [
              "┏━━━━━━━━━━━━━━━━━━━━━━━━━━━━━━━━━┳━━━━━━━━━━━━━━━━━━━━━━━━┳━━━━━━━━━━━━━━━┓\n",
              "┃\u001b[1m \u001b[0m\u001b[1mLayer (type)                   \u001b[0m\u001b[1m \u001b[0m┃\u001b[1m \u001b[0m\u001b[1mOutput Shape          \u001b[0m\u001b[1m \u001b[0m┃\u001b[1m \u001b[0m\u001b[1m      Param #\u001b[0m\u001b[1m \u001b[0m┃\n",
              "┡━━━━━━━━━━━━━━━━━━━━━━━━━━━━━━━━━╇━━━━━━━━━━━━━━━━━━━━━━━━╇━━━━━━━━━━━━━━━┩\n",
              "│ conv2d (\u001b[38;5;33mConv2D\u001b[0m)                 │ (\u001b[38;5;45mNone\u001b[0m, \u001b[38;5;34m60\u001b[0m, \u001b[38;5;34m127\u001b[0m, \u001b[38;5;34m32\u001b[0m)    │           \u001b[38;5;34m320\u001b[0m │\n",
              "├─────────────────────────────────┼────────────────────────┼───────────────┤\n",
              "│ batch_normalization             │ (\u001b[38;5;45mNone\u001b[0m, \u001b[38;5;34m60\u001b[0m, \u001b[38;5;34m127\u001b[0m, \u001b[38;5;34m32\u001b[0m)    │           \u001b[38;5;34m128\u001b[0m │\n",
              "│ (\u001b[38;5;33mBatchNormalization\u001b[0m)            │                        │               │\n",
              "├─────────────────────────────────┼────────────────────────┼───────────────┤\n",
              "│ conv2d_1 (\u001b[38;5;33mConv2D\u001b[0m)               │ (\u001b[38;5;45mNone\u001b[0m, \u001b[38;5;34m58\u001b[0m, \u001b[38;5;34m125\u001b[0m, \u001b[38;5;34m32\u001b[0m)    │         \u001b[38;5;34m9,248\u001b[0m │\n",
              "├─────────────────────────────────┼────────────────────────┼───────────────┤\n",
              "│ max_pooling2d (\u001b[38;5;33mMaxPooling2D\u001b[0m)    │ (\u001b[38;5;45mNone\u001b[0m, \u001b[38;5;34m29\u001b[0m, \u001b[38;5;34m62\u001b[0m, \u001b[38;5;34m32\u001b[0m)     │             \u001b[38;5;34m0\u001b[0m │\n",
              "├─────────────────────────────────┼────────────────────────┼───────────────┤\n",
              "│ dropout (\u001b[38;5;33mDropout\u001b[0m)               │ (\u001b[38;5;45mNone\u001b[0m, \u001b[38;5;34m29\u001b[0m, \u001b[38;5;34m62\u001b[0m, \u001b[38;5;34m32\u001b[0m)     │             \u001b[38;5;34m0\u001b[0m │\n",
              "├─────────────────────────────────┼────────────────────────┼───────────────┤\n",
              "│ conv2d_2 (\u001b[38;5;33mConv2D\u001b[0m)               │ (\u001b[38;5;45mNone\u001b[0m, \u001b[38;5;34m27\u001b[0m, \u001b[38;5;34m60\u001b[0m, \u001b[38;5;34m64\u001b[0m)     │        \u001b[38;5;34m18,496\u001b[0m │\n",
              "├─────────────────────────────────┼────────────────────────┼───────────────┤\n",
              "│ batch_normalization_1           │ (\u001b[38;5;45mNone\u001b[0m, \u001b[38;5;34m27\u001b[0m, \u001b[38;5;34m60\u001b[0m, \u001b[38;5;34m64\u001b[0m)     │           \u001b[38;5;34m256\u001b[0m │\n",
              "│ (\u001b[38;5;33mBatchNormalization\u001b[0m)            │                        │               │\n",
              "├─────────────────────────────────┼────────────────────────┼───────────────┤\n",
              "│ conv2d_3 (\u001b[38;5;33mConv2D\u001b[0m)               │ (\u001b[38;5;45mNone\u001b[0m, \u001b[38;5;34m25\u001b[0m, \u001b[38;5;34m58\u001b[0m, \u001b[38;5;34m64\u001b[0m)     │        \u001b[38;5;34m36,928\u001b[0m │\n",
              "├─────────────────────────────────┼────────────────────────┼───────────────┤\n",
              "│ max_pooling2d_1 (\u001b[38;5;33mMaxPooling2D\u001b[0m)  │ (\u001b[38;5;45mNone\u001b[0m, \u001b[38;5;34m12\u001b[0m, \u001b[38;5;34m29\u001b[0m, \u001b[38;5;34m64\u001b[0m)     │             \u001b[38;5;34m0\u001b[0m │\n",
              "├─────────────────────────────────┼────────────────────────┼───────────────┤\n",
              "│ dropout_1 (\u001b[38;5;33mDropout\u001b[0m)             │ (\u001b[38;5;45mNone\u001b[0m, \u001b[38;5;34m12\u001b[0m, \u001b[38;5;34m29\u001b[0m, \u001b[38;5;34m64\u001b[0m)     │             \u001b[38;5;34m0\u001b[0m │\n",
              "├─────────────────────────────────┼────────────────────────┼───────────────┤\n",
              "│ conv2d_4 (\u001b[38;5;33mConv2D\u001b[0m)               │ (\u001b[38;5;45mNone\u001b[0m, \u001b[38;5;34m10\u001b[0m, \u001b[38;5;34m27\u001b[0m, \u001b[38;5;34m128\u001b[0m)    │        \u001b[38;5;34m73,856\u001b[0m │\n",
              "├─────────────────────────────────┼────────────────────────┼───────────────┤\n",
              "│ batch_normalization_2           │ (\u001b[38;5;45mNone\u001b[0m, \u001b[38;5;34m10\u001b[0m, \u001b[38;5;34m27\u001b[0m, \u001b[38;5;34m128\u001b[0m)    │           \u001b[38;5;34m512\u001b[0m │\n",
              "│ (\u001b[38;5;33mBatchNormalization\u001b[0m)            │                        │               │\n",
              "├─────────────────────────────────┼────────────────────────┼───────────────┤\n",
              "│ dropout_2 (\u001b[38;5;33mDropout\u001b[0m)             │ (\u001b[38;5;45mNone\u001b[0m, \u001b[38;5;34m10\u001b[0m, \u001b[38;5;34m27\u001b[0m, \u001b[38;5;34m128\u001b[0m)    │             \u001b[38;5;34m0\u001b[0m │\n",
              "├─────────────────────────────────┼────────────────────────┼───────────────┤\n",
              "│ flatten (\u001b[38;5;33mFlatten\u001b[0m)               │ (\u001b[38;5;45mNone\u001b[0m, \u001b[38;5;34m34560\u001b[0m)          │             \u001b[38;5;34m0\u001b[0m │\n",
              "├─────────────────────────────────┼────────────────────────┼───────────────┤\n",
              "│ dense (\u001b[38;5;33mDense\u001b[0m)                   │ (\u001b[38;5;45mNone\u001b[0m, \u001b[38;5;34m256\u001b[0m)            │     \u001b[38;5;34m8,847,616\u001b[0m │\n",
              "├─────────────────────────────────┼────────────────────────┼───────────────┤\n",
              "│ dropout_3 (\u001b[38;5;33mDropout\u001b[0m)             │ (\u001b[38;5;45mNone\u001b[0m, \u001b[38;5;34m256\u001b[0m)            │             \u001b[38;5;34m0\u001b[0m │\n",
              "├─────────────────────────────────┼────────────────────────┼───────────────┤\n",
              "│ dense_1 (\u001b[38;5;33mDense\u001b[0m)                 │ (\u001b[38;5;45mNone\u001b[0m, \u001b[38;5;34m128\u001b[0m)            │        \u001b[38;5;34m32,896\u001b[0m │\n",
              "├─────────────────────────────────┼────────────────────────┼───────────────┤\n",
              "│ dropout_4 (\u001b[38;5;33mDropout\u001b[0m)             │ (\u001b[38;5;45mNone\u001b[0m, \u001b[38;5;34m128\u001b[0m)            │             \u001b[38;5;34m0\u001b[0m │\n",
              "├─────────────────────────────────┼────────────────────────┼───────────────┤\n",
              "│ dense_2 (\u001b[38;5;33mDense\u001b[0m)                 │ (\u001b[38;5;45mNone\u001b[0m, \u001b[38;5;34m1\u001b[0m)              │           \u001b[38;5;34m129\u001b[0m │\n",
              "└─────────────────────────────────┴────────────────────────┴───────────────┘\n"
            ],
            "text/html": [
              "<pre style=\"white-space:pre;overflow-x:auto;line-height:normal;font-family:Menlo,'DejaVu Sans Mono',consolas,'Courier New',monospace\">┏━━━━━━━━━━━━━━━━━━━━━━━━━━━━━━━━━┳━━━━━━━━━━━━━━━━━━━━━━━━┳━━━━━━━━━━━━━━━┓\n",
              "┃<span style=\"font-weight: bold\"> Layer (type)                    </span>┃<span style=\"font-weight: bold\"> Output Shape           </span>┃<span style=\"font-weight: bold\">       Param # </span>┃\n",
              "┡━━━━━━━━━━━━━━━━━━━━━━━━━━━━━━━━━╇━━━━━━━━━━━━━━━━━━━━━━━━╇━━━━━━━━━━━━━━━┩\n",
              "│ conv2d (<span style=\"color: #0087ff; text-decoration-color: #0087ff\">Conv2D</span>)                 │ (<span style=\"color: #00d7ff; text-decoration-color: #00d7ff\">None</span>, <span style=\"color: #00af00; text-decoration-color: #00af00\">60</span>, <span style=\"color: #00af00; text-decoration-color: #00af00\">127</span>, <span style=\"color: #00af00; text-decoration-color: #00af00\">32</span>)    │           <span style=\"color: #00af00; text-decoration-color: #00af00\">320</span> │\n",
              "├─────────────────────────────────┼────────────────────────┼───────────────┤\n",
              "│ batch_normalization             │ (<span style=\"color: #00d7ff; text-decoration-color: #00d7ff\">None</span>, <span style=\"color: #00af00; text-decoration-color: #00af00\">60</span>, <span style=\"color: #00af00; text-decoration-color: #00af00\">127</span>, <span style=\"color: #00af00; text-decoration-color: #00af00\">32</span>)    │           <span style=\"color: #00af00; text-decoration-color: #00af00\">128</span> │\n",
              "│ (<span style=\"color: #0087ff; text-decoration-color: #0087ff\">BatchNormalization</span>)            │                        │               │\n",
              "├─────────────────────────────────┼────────────────────────┼───────────────┤\n",
              "│ conv2d_1 (<span style=\"color: #0087ff; text-decoration-color: #0087ff\">Conv2D</span>)               │ (<span style=\"color: #00d7ff; text-decoration-color: #00d7ff\">None</span>, <span style=\"color: #00af00; text-decoration-color: #00af00\">58</span>, <span style=\"color: #00af00; text-decoration-color: #00af00\">125</span>, <span style=\"color: #00af00; text-decoration-color: #00af00\">32</span>)    │         <span style=\"color: #00af00; text-decoration-color: #00af00\">9,248</span> │\n",
              "├─────────────────────────────────┼────────────────────────┼───────────────┤\n",
              "│ max_pooling2d (<span style=\"color: #0087ff; text-decoration-color: #0087ff\">MaxPooling2D</span>)    │ (<span style=\"color: #00d7ff; text-decoration-color: #00d7ff\">None</span>, <span style=\"color: #00af00; text-decoration-color: #00af00\">29</span>, <span style=\"color: #00af00; text-decoration-color: #00af00\">62</span>, <span style=\"color: #00af00; text-decoration-color: #00af00\">32</span>)     │             <span style=\"color: #00af00; text-decoration-color: #00af00\">0</span> │\n",
              "├─────────────────────────────────┼────────────────────────┼───────────────┤\n",
              "│ dropout (<span style=\"color: #0087ff; text-decoration-color: #0087ff\">Dropout</span>)               │ (<span style=\"color: #00d7ff; text-decoration-color: #00d7ff\">None</span>, <span style=\"color: #00af00; text-decoration-color: #00af00\">29</span>, <span style=\"color: #00af00; text-decoration-color: #00af00\">62</span>, <span style=\"color: #00af00; text-decoration-color: #00af00\">32</span>)     │             <span style=\"color: #00af00; text-decoration-color: #00af00\">0</span> │\n",
              "├─────────────────────────────────┼────────────────────────┼───────────────┤\n",
              "│ conv2d_2 (<span style=\"color: #0087ff; text-decoration-color: #0087ff\">Conv2D</span>)               │ (<span style=\"color: #00d7ff; text-decoration-color: #00d7ff\">None</span>, <span style=\"color: #00af00; text-decoration-color: #00af00\">27</span>, <span style=\"color: #00af00; text-decoration-color: #00af00\">60</span>, <span style=\"color: #00af00; text-decoration-color: #00af00\">64</span>)     │        <span style=\"color: #00af00; text-decoration-color: #00af00\">18,496</span> │\n",
              "├─────────────────────────────────┼────────────────────────┼───────────────┤\n",
              "│ batch_normalization_1           │ (<span style=\"color: #00d7ff; text-decoration-color: #00d7ff\">None</span>, <span style=\"color: #00af00; text-decoration-color: #00af00\">27</span>, <span style=\"color: #00af00; text-decoration-color: #00af00\">60</span>, <span style=\"color: #00af00; text-decoration-color: #00af00\">64</span>)     │           <span style=\"color: #00af00; text-decoration-color: #00af00\">256</span> │\n",
              "│ (<span style=\"color: #0087ff; text-decoration-color: #0087ff\">BatchNormalization</span>)            │                        │               │\n",
              "├─────────────────────────────────┼────────────────────────┼───────────────┤\n",
              "│ conv2d_3 (<span style=\"color: #0087ff; text-decoration-color: #0087ff\">Conv2D</span>)               │ (<span style=\"color: #00d7ff; text-decoration-color: #00d7ff\">None</span>, <span style=\"color: #00af00; text-decoration-color: #00af00\">25</span>, <span style=\"color: #00af00; text-decoration-color: #00af00\">58</span>, <span style=\"color: #00af00; text-decoration-color: #00af00\">64</span>)     │        <span style=\"color: #00af00; text-decoration-color: #00af00\">36,928</span> │\n",
              "├─────────────────────────────────┼────────────────────────┼───────────────┤\n",
              "│ max_pooling2d_1 (<span style=\"color: #0087ff; text-decoration-color: #0087ff\">MaxPooling2D</span>)  │ (<span style=\"color: #00d7ff; text-decoration-color: #00d7ff\">None</span>, <span style=\"color: #00af00; text-decoration-color: #00af00\">12</span>, <span style=\"color: #00af00; text-decoration-color: #00af00\">29</span>, <span style=\"color: #00af00; text-decoration-color: #00af00\">64</span>)     │             <span style=\"color: #00af00; text-decoration-color: #00af00\">0</span> │\n",
              "├─────────────────────────────────┼────────────────────────┼───────────────┤\n",
              "│ dropout_1 (<span style=\"color: #0087ff; text-decoration-color: #0087ff\">Dropout</span>)             │ (<span style=\"color: #00d7ff; text-decoration-color: #00d7ff\">None</span>, <span style=\"color: #00af00; text-decoration-color: #00af00\">12</span>, <span style=\"color: #00af00; text-decoration-color: #00af00\">29</span>, <span style=\"color: #00af00; text-decoration-color: #00af00\">64</span>)     │             <span style=\"color: #00af00; text-decoration-color: #00af00\">0</span> │\n",
              "├─────────────────────────────────┼────────────────────────┼───────────────┤\n",
              "│ conv2d_4 (<span style=\"color: #0087ff; text-decoration-color: #0087ff\">Conv2D</span>)               │ (<span style=\"color: #00d7ff; text-decoration-color: #00d7ff\">None</span>, <span style=\"color: #00af00; text-decoration-color: #00af00\">10</span>, <span style=\"color: #00af00; text-decoration-color: #00af00\">27</span>, <span style=\"color: #00af00; text-decoration-color: #00af00\">128</span>)    │        <span style=\"color: #00af00; text-decoration-color: #00af00\">73,856</span> │\n",
              "├─────────────────────────────────┼────────────────────────┼───────────────┤\n",
              "│ batch_normalization_2           │ (<span style=\"color: #00d7ff; text-decoration-color: #00d7ff\">None</span>, <span style=\"color: #00af00; text-decoration-color: #00af00\">10</span>, <span style=\"color: #00af00; text-decoration-color: #00af00\">27</span>, <span style=\"color: #00af00; text-decoration-color: #00af00\">128</span>)    │           <span style=\"color: #00af00; text-decoration-color: #00af00\">512</span> │\n",
              "│ (<span style=\"color: #0087ff; text-decoration-color: #0087ff\">BatchNormalization</span>)            │                        │               │\n",
              "├─────────────────────────────────┼────────────────────────┼───────────────┤\n",
              "│ dropout_2 (<span style=\"color: #0087ff; text-decoration-color: #0087ff\">Dropout</span>)             │ (<span style=\"color: #00d7ff; text-decoration-color: #00d7ff\">None</span>, <span style=\"color: #00af00; text-decoration-color: #00af00\">10</span>, <span style=\"color: #00af00; text-decoration-color: #00af00\">27</span>, <span style=\"color: #00af00; text-decoration-color: #00af00\">128</span>)    │             <span style=\"color: #00af00; text-decoration-color: #00af00\">0</span> │\n",
              "├─────────────────────────────────┼────────────────────────┼───────────────┤\n",
              "│ flatten (<span style=\"color: #0087ff; text-decoration-color: #0087ff\">Flatten</span>)               │ (<span style=\"color: #00d7ff; text-decoration-color: #00d7ff\">None</span>, <span style=\"color: #00af00; text-decoration-color: #00af00\">34560</span>)          │             <span style=\"color: #00af00; text-decoration-color: #00af00\">0</span> │\n",
              "├─────────────────────────────────┼────────────────────────┼───────────────┤\n",
              "│ dense (<span style=\"color: #0087ff; text-decoration-color: #0087ff\">Dense</span>)                   │ (<span style=\"color: #00d7ff; text-decoration-color: #00d7ff\">None</span>, <span style=\"color: #00af00; text-decoration-color: #00af00\">256</span>)            │     <span style=\"color: #00af00; text-decoration-color: #00af00\">8,847,616</span> │\n",
              "├─────────────────────────────────┼────────────────────────┼───────────────┤\n",
              "│ dropout_3 (<span style=\"color: #0087ff; text-decoration-color: #0087ff\">Dropout</span>)             │ (<span style=\"color: #00d7ff; text-decoration-color: #00d7ff\">None</span>, <span style=\"color: #00af00; text-decoration-color: #00af00\">256</span>)            │             <span style=\"color: #00af00; text-decoration-color: #00af00\">0</span> │\n",
              "├─────────────────────────────────┼────────────────────────┼───────────────┤\n",
              "│ dense_1 (<span style=\"color: #0087ff; text-decoration-color: #0087ff\">Dense</span>)                 │ (<span style=\"color: #00d7ff; text-decoration-color: #00d7ff\">None</span>, <span style=\"color: #00af00; text-decoration-color: #00af00\">128</span>)            │        <span style=\"color: #00af00; text-decoration-color: #00af00\">32,896</span> │\n",
              "├─────────────────────────────────┼────────────────────────┼───────────────┤\n",
              "│ dropout_4 (<span style=\"color: #0087ff; text-decoration-color: #0087ff\">Dropout</span>)             │ (<span style=\"color: #00d7ff; text-decoration-color: #00d7ff\">None</span>, <span style=\"color: #00af00; text-decoration-color: #00af00\">128</span>)            │             <span style=\"color: #00af00; text-decoration-color: #00af00\">0</span> │\n",
              "├─────────────────────────────────┼────────────────────────┼───────────────┤\n",
              "│ dense_2 (<span style=\"color: #0087ff; text-decoration-color: #0087ff\">Dense</span>)                 │ (<span style=\"color: #00d7ff; text-decoration-color: #00d7ff\">None</span>, <span style=\"color: #00af00; text-decoration-color: #00af00\">1</span>)              │           <span style=\"color: #00af00; text-decoration-color: #00af00\">129</span> │\n",
              "└─────────────────────────────────┴────────────────────────┴───────────────┘\n",
              "</pre>\n"
            ]
          },
          "metadata": {}
        },
        {
          "output_type": "display_data",
          "data": {
            "text/plain": [
              "\u001b[1m Total params: \u001b[0m\u001b[38;5;34m9,020,385\u001b[0m (34.41 MB)\n"
            ],
            "text/html": [
              "<pre style=\"white-space:pre;overflow-x:auto;line-height:normal;font-family:Menlo,'DejaVu Sans Mono',consolas,'Courier New',monospace\"><span style=\"font-weight: bold\"> Total params: </span><span style=\"color: #00af00; text-decoration-color: #00af00\">9,020,385</span> (34.41 MB)\n",
              "</pre>\n"
            ]
          },
          "metadata": {}
        },
        {
          "output_type": "display_data",
          "data": {
            "text/plain": [
              "\u001b[1m Trainable params: \u001b[0m\u001b[38;5;34m9,019,937\u001b[0m (34.41 MB)\n"
            ],
            "text/html": [
              "<pre style=\"white-space:pre;overflow-x:auto;line-height:normal;font-family:Menlo,'DejaVu Sans Mono',consolas,'Courier New',monospace\"><span style=\"font-weight: bold\"> Trainable params: </span><span style=\"color: #00af00; text-decoration-color: #00af00\">9,019,937</span> (34.41 MB)\n",
              "</pre>\n"
            ]
          },
          "metadata": {}
        },
        {
          "output_type": "display_data",
          "data": {
            "text/plain": [
              "\u001b[1m Non-trainable params: \u001b[0m\u001b[38;5;34m448\u001b[0m (1.75 KB)\n"
            ],
            "text/html": [
              "<pre style=\"white-space:pre;overflow-x:auto;line-height:normal;font-family:Menlo,'DejaVu Sans Mono',consolas,'Courier New',monospace\"><span style=\"font-weight: bold\"> Non-trainable params: </span><span style=\"color: #00af00; text-decoration-color: #00af00\">448</span> (1.75 KB)\n",
              "</pre>\n"
            ]
          },
          "metadata": {}
        },
        {
          "output_type": "stream",
          "name": "stdout",
          "text": [
            "None\n",
            "Epoch 1/30\n",
            "\u001b[1m8/8\u001b[0m \u001b[32m━━━━━━━━━━━━━━━━━━━━\u001b[0m\u001b[37m\u001b[0m \u001b[1m8s\u001b[0m 617ms/step - accuracy: 0.6724 - loss: 602.1102 - precision: 0.7705 - recall: 0.5790 - val_accuracy: 0.5000 - val_loss: 432.9669 - val_precision: 0.5000 - val_recall: 1.0000\n",
            "Epoch 2/30\n",
            "\u001b[1m8/8\u001b[0m \u001b[32m━━━━━━━━━━━━━━━━━━━━\u001b[0m\u001b[37m\u001b[0m \u001b[1m4s\u001b[0m 418ms/step - accuracy: 0.7267 - loss: 370.1673 - precision: 0.7816 - recall: 0.6868 - val_accuracy: 0.5000 - val_loss: 246.8622 - val_precision: 0.5000 - val_recall: 1.0000\n",
            "Epoch 3/30\n",
            "\u001b[1m8/8\u001b[0m \u001b[32m━━━━━━━━━━━━━━━━━━━━\u001b[0m\u001b[37m\u001b[0m \u001b[1m3s\u001b[0m 405ms/step - accuracy: 0.7960 - loss: 220.2948 - precision: 0.8123 - recall: 0.8123 - val_accuracy: 0.5000 - val_loss: 325.2648 - val_precision: 0.5000 - val_recall: 1.0000\n",
            "Epoch 4/30\n",
            "\u001b[1m8/8\u001b[0m \u001b[32m━━━━━━━━━━━━━━━━━━━━\u001b[0m\u001b[37m\u001b[0m \u001b[1m4s\u001b[0m 441ms/step - accuracy: 0.7655 - loss: 227.2294 - precision: 0.8255 - recall: 0.7417 - val_accuracy: 0.5000 - val_loss: 934.3237 - val_precision: 0.5000 - val_recall: 1.0000\n",
            "Epoch 5/30\n",
            "\u001b[1m8/8\u001b[0m \u001b[32m━━━━━━━━━━━━━━━━━━━━\u001b[0m\u001b[37m\u001b[0m \u001b[1m5s\u001b[0m 394ms/step - accuracy: 0.7581 - loss: 254.5351 - precision: 0.7797 - recall: 0.7514 - val_accuracy: 0.5000 - val_loss: 1407.1272 - val_precision: 0.5000 - val_recall: 1.0000\n",
            "Epoch 6/30\n",
            "\u001b[1m8/8\u001b[0m \u001b[32m━━━━━━━━━━━━━━━━━━━━\u001b[0m\u001b[37m\u001b[0m \u001b[1m5s\u001b[0m 411ms/step - accuracy: 0.6776 - loss: 310.8092 - precision: 0.6991 - recall: 0.7044 - val_accuracy: 0.5000 - val_loss: 21422.3926 - val_precision: 0.5000 - val_recall: 1.0000\n",
            "Epoch 7/30\n",
            "\u001b[1m8/8\u001b[0m \u001b[32m━━━━━━━━━━━━━━━━━━━━\u001b[0m\u001b[37m\u001b[0m \u001b[1m4s\u001b[0m 484ms/step - accuracy: 0.6522 - loss: 681.2021 - precision: 0.6436 - recall: 0.7674 - val_accuracy: 0.5000 - val_loss: 101937.3281 - val_precision: 0.0000e+00 - val_recall: 0.0000e+00\n",
            "Epoch 8/30\n",
            "\u001b[1m8/8\u001b[0m \u001b[32m━━━━━━━━━━━━━━━━━━━━\u001b[0m\u001b[37m\u001b[0m \u001b[1m3s\u001b[0m 444ms/step - accuracy: 0.4716 - loss: nan - precision: 0.5000 - recall: 0.3290 - val_accuracy: 0.5000 - val_loss: nan - val_precision: 0.0000e+00 - val_recall: 0.0000e+00\n",
            "Epoch 9/30\n",
            "\u001b[1m8/8\u001b[0m \u001b[32m━━━━━━━━━━━━━━━━━━━━\u001b[0m\u001b[37m\u001b[0m \u001b[1m3s\u001b[0m 416ms/step - accuracy: 0.4716 - loss: nan - precision: 0.0000e+00 - recall: 0.0000e+00 - val_accuracy: 0.5000 - val_loss: nan - val_precision: 0.0000e+00 - val_recall: 0.0000e+00\n",
            "Epoch 10/30\n",
            "\u001b[1m8/8\u001b[0m \u001b[32m━━━━━━━━━━━━━━━━━━━━\u001b[0m\u001b[37m\u001b[0m \u001b[1m5s\u001b[0m 670ms/step - accuracy: 0.4716 - loss: nan - precision: 0.0000e+00 - recall: 0.0000e+00 - val_accuracy: 0.5000 - val_loss: nan - val_precision: 0.0000e+00 - val_recall: 0.0000e+00\n",
            "Epoch 11/30\n",
            "\u001b[1m8/8\u001b[0m \u001b[32m━━━━━━━━━━━━━━━━━━━━\u001b[0m\u001b[37m\u001b[0m \u001b[1m3s\u001b[0m 420ms/step - accuracy: 0.4716 - loss: nan - precision: 0.0000e+00 - recall: 0.0000e+00 - val_accuracy: 0.5000 - val_loss: nan - val_precision: 0.0000e+00 - val_recall: 0.0000e+00\n",
            "Epoch 12/30\n",
            "\u001b[1m8/8\u001b[0m \u001b[32m━━━━━━━━━━━━━━━━━━━━\u001b[0m\u001b[37m\u001b[0m \u001b[1m4s\u001b[0m 443ms/step - accuracy: 0.4716 - loss: nan - precision: 0.0000e+00 - recall: 0.0000e+00 - val_accuracy: 0.5000 - val_loss: nan - val_precision: 0.0000e+00 - val_recall: 0.0000e+00\n",
            "Epoch 13/30\n",
            "\u001b[1m8/8\u001b[0m \u001b[32m━━━━━━━━━━━━━━━━━━━━\u001b[0m\u001b[37m\u001b[0m \u001b[1m4s\u001b[0m 534ms/step - accuracy: 0.4716 - loss: nan - precision: 0.0000e+00 - recall: 0.0000e+00 - val_accuracy: 0.5000 - val_loss: nan - val_precision: 0.0000e+00 - val_recall: 0.0000e+00\n",
            "Epoch 14/30\n",
            "\u001b[1m8/8\u001b[0m \u001b[32m━━━━━━━━━━━━━━━━━━━━\u001b[0m\u001b[37m\u001b[0m \u001b[1m3s\u001b[0m 428ms/step - accuracy: 0.4716 - loss: nan - precision: 0.0000e+00 - recall: 0.0000e+00 - val_accuracy: 0.5000 - val_loss: nan - val_precision: 0.0000e+00 - val_recall: 0.0000e+00\n",
            "Epoch 15/30\n",
            "\u001b[1m8/8\u001b[0m \u001b[32m━━━━━━━━━━━━━━━━━━━━\u001b[0m\u001b[37m\u001b[0m \u001b[1m3s\u001b[0m 422ms/step - accuracy: 0.4716 - loss: nan - precision: 0.0000e+00 - recall: 0.0000e+00 - val_accuracy: 0.5000 - val_loss: nan - val_precision: 0.0000e+00 - val_recall: 0.0000e+00\n",
            "Epoch 16/30\n",
            "\u001b[1m8/8\u001b[0m \u001b[32m━━━━━━━━━━━━━━━━━━━━\u001b[0m\u001b[37m\u001b[0m \u001b[1m5s\u001b[0m 657ms/step - accuracy: 0.4716 - loss: nan - precision: 0.0000e+00 - recall: 0.0000e+00 - val_accuracy: 0.5000 - val_loss: nan - val_precision: 0.0000e+00 - val_recall: 0.0000e+00\n",
            "Epoch 17/30\n",
            "\u001b[1m8/8\u001b[0m \u001b[32m━━━━━━━━━━━━━━━━━━━━\u001b[0m\u001b[37m\u001b[0m \u001b[1m3s\u001b[0m 417ms/step - accuracy: 0.4716 - loss: nan - precision: 0.0000e+00 - recall: 0.0000e+00 - val_accuracy: 0.5000 - val_loss: nan - val_precision: 0.0000e+00 - val_recall: 0.0000e+00\n",
            "Epoch 17: early stopping\n",
            "Restoring model weights from the end of the best epoch: 2.\n"
          ]
        },
        {
          "output_type": "stream",
          "name": "stderr",
          "text": [
            "WARNING:absl:You are saving your model as an HDF5 file via `model.save()` or `keras.saving.save_model(model)`. This file format is considered legacy. We recommend using instead the native Keras format, e.g. `model.save('my_model.keras')` or `keras.saving.save_model(model, 'my_model.keras')`. \n"
          ]
        },
        {
          "output_type": "stream",
          "name": "stdout",
          "text": [
            "\n",
            "Advanced Optimized Neural Network Instance 4 Results:\n",
            "Training - Acc: 0.500, F1: 0.667, Precision: 0.500, Recall: 1.000\n",
            "Validation - Acc: 0.500, F1: 0.667, Precision: 0.500, Recall: 1.000\n",
            "Test - Acc: 0.500, F1: 0.667, Precision: 0.500, Recall: 1.000\n",
            "Model saved as 'advanced_optimized_nn_instance4.h5'\n"
          ]
        }
      ]
    },
    {
      "cell_type": "code",
      "source": [
        "# Cell 10: Results Table and Analysis\n",
        "print(\"RESULTS ANALYSIS\")\n",
        "print(\"=\" * 80)\n",
        "\n",
        "# Create and display results table\n",
        "results_df = pd.DataFrame(results_table)\n",
        "print(\"\\nNeural Network Training Instances Results:\")\n",
        "print(results_df.to_string(index=False))\n",
        "\n",
        "# Save results to CSV\n",
        "results_df.to_csv('training_results_table.csv', index=False)\n",
        "\n",
        "# Comparison analysis\n",
        "print(f\"\\n\\nCOMPARISON ANALYSIS:\")\n",
        "print(\"=\" * 40)\n",
        "\n",
        "print(f\"\\n1. CLASSICAL ML vs NEURAL NETWORKS:\")\n",
        "print(f\"   Logistic Regression - Acc: {test_acc_lr:.3f}, F1: {test_f1_lr:.3f}\")\n",
        "print(f\"   Best Neural Network - Acc: {max([float(r['Accuracy']) for r in results_table]):.3f}\")\n",
        "\n",
        "print(f\"\\n2. NEURAL NETWORK OPTIMIZATION IMPACT:\")\n",
        "print(f\"   Simple NN (Instance 1) - Acc: {test_acc_simple:.3f}, F1: {test_f1_simple:.3f}\")\n",
        "print(f\"   Best Optimized NN - Acc: {max([float(r['Accuracy']) for r in results_table]):.3f}\")\n",
        "\n",
        "# Find best performing model\n",
        "best_nn_idx = np.argmax([float(r['F1_Score']) for r in results_table])\n",
        "best_nn = results_table[best_nn_idx]\n",
        "print(f\"\\n3. BEST PERFORMING NEURAL NETWORK:\")\n",
        "print(f\"   {best_nn['Instance']}\")\n",
        "print(f\"   Optimizer: {best_nn['Optimizer']}\")\n",
        "print(f\"   Regularizer: {best_nn['Regularizer']}\")\n",
        "print(f\"   F1-Score: {best_nn['F1_Score']}\")\n",
        "print(f\"   Accuracy: {best_nn['Accuracy']}\")\n",
        "\n",
        "# Optimization techniques impact\n",
        "print(f\"\\n4. OPTIMIZATION TECHNIQUES IMPACT:\")\n",
        "print(f\"   L2 Regularization (Instance 2): F1 = {results_table[1]['F1_Score']}\")\n",
        "print(f\"   L1 + BatchNorm (Instance 3): F1 = {results_table[2]['F1_Score']}\")\n",
        "print(f\"   L1L2 + Advanced Arch (Instance 4): F1 = {results_table[3]['F1_Score']}\")\n",
        "\n",
        "print(f\"\\n5. SUMMARY:\")\n",
        "if test_f1_lr > float(best_nn['F1_Score']):\n",
        "    print(f\"   Classical ML (Logistic Regression) performed better with F1: {test_f1_lr:.3f}\")\n",
        "    print(f\"   Best hyperparameters: {lr_grid.best_params_}\")\n",
        "else:\n",
        "    print(f\"   Neural Networks performed better with F1: {best_nn['F1_Score']}\")\n",
        "    print(f\"   Best configuration: {best_nn['Instance']} with {best_nn['Optimizer']} optimizer\")\n",
        "\n",
        "print(f\"\\n6. REGULARIZATION ANALYSIS:\")\n",
        "print(f\"   L2 regularization helped reduce overfitting\")\n",
        "print(f\"   L1 regularization promoted feature sparsity\")\n",
        "print(f\"   Early stopping prevented overfitting effectively\")\n",
        "print(f\"   BatchNormalization improved training stability\")"
      ],
      "metadata": {
        "colab": {
          "base_uri": "https://localhost:8080/"
        },
        "id": "A3G6-Nq-AaBh",
        "outputId": "7f0bfa4f-f73f-4c68-8b55-2bd9db09ccc6"
      },
      "execution_count": 13,
      "outputs": [
        {
          "output_type": "stream",
          "name": "stdout",
          "text": [
            "RESULTS ANALYSIS\n",
            "================================================================================\n",
            "\n",
            "Neural Network Training Instances Results:\n",
            "             Instance      Optimizer           Regularizer  Epochs Early_Stopping  Layers  Learning_Rate Accuracy F1_Score Precision Recall    Loss\n",
            "  Instance 1 (Simple) Adam (default)                  None      10             No       5         0.0010    0.950    0.947     1.000  0.900   1.399\n",
            "     Instance 2 (Opt)           Adam             L2 (0.01)      20            Yes       8         0.0005    1.000    1.000     1.000  1.000   0.609\n",
            "     Instance 3 (Opt)        RMSprop L1 (0.01) + BatchNorm       9            Yes       9         0.0010    0.950    0.947     1.000  0.900  24.149\n",
            "     Instance 3 (Opt)        RMSprop L1 (0.01) + BatchNorm      16            Yes       9         0.0010    0.950    0.947     1.000  0.900  36.247\n",
            "Instance 4 (Advanced)            SGD   L1L2 (0.005, 0.005)      12            Yes      12         0.0100    0.500    0.667     0.500  1.000 267.245\n",
            "Instance 4 (Advanced)            SGD   L1L2 (0.005, 0.005)      17            Yes      12         0.0100    0.500    0.667     0.500  1.000 245.862\n",
            "\n",
            "\n",
            "COMPARISON ANALYSIS:\n",
            "========================================\n",
            "\n",
            "1. CLASSICAL ML vs NEURAL NETWORKS:\n",
            "   Logistic Regression - Acc: 0.950, F1: 0.947\n",
            "   Best Neural Network - Acc: 1.000\n",
            "\n",
            "2. NEURAL NETWORK OPTIMIZATION IMPACT:\n",
            "   Simple NN (Instance 1) - Acc: 0.950, F1: 0.947\n",
            "   Best Optimized NN - Acc: 1.000\n",
            "\n",
            "3. BEST PERFORMING NEURAL NETWORK:\n",
            "   Instance 2 (Opt)\n",
            "   Optimizer: Adam\n",
            "   Regularizer: L2 (0.01)\n",
            "   F1-Score: 1.000\n",
            "   Accuracy: 1.000\n",
            "\n",
            "4. OPTIMIZATION TECHNIQUES IMPACT:\n",
            "   L2 Regularization (Instance 2): F1 = 1.000\n",
            "   L1 + BatchNorm (Instance 3): F1 = 0.947\n",
            "   L1L2 + Advanced Arch (Instance 4): F1 = 0.947\n",
            "\n",
            "5. SUMMARY:\n",
            "   Neural Networks performed better with F1: 1.000\n",
            "   Best configuration: Instance 2 (Opt) with Adam optimizer\n",
            "\n",
            "6. REGULARIZATION ANALYSIS:\n",
            "   L2 regularization helped reduce overfitting\n",
            "   L1 regularization promoted feature sparsity\n",
            "   Early stopping prevented overfitting effectively\n",
            "   BatchNormalization improved training stability\n"
          ]
        }
      ]
    },
    {
      "cell_type": "code",
      "source": [
        "# Cell 11: Visualization and Final Predictions\n",
        "print(\"VISUALIZATION AND FINAL PREDICTIONS\")\n",
        "print(\"=\" * 50)\n",
        "\n",
        "# Plot training histories comparison with reduced figure size and DPI\n",
        "fig, axes = plt.subplots(2, 2, figsize=(12, 8))  # Reduced from (15, 10)\n",
        "\n",
        "# Plot training accuracy\n",
        "axes[0,0].plot(history_simple.history['accuracy'], label='Simple NN', color='red')\n",
        "axes[0,0].plot(history_opt1.history['accuracy'], label='Instance 2 (L2)', color='blue')\n",
        "axes[0,0].plot(history_opt2.history['accuracy'], label='Instance 3 (L1+BN)', color='green')\n",
        "axes[0,0].plot(history_opt3.history['accuracy'], label='Instance 4 (L1L2)', color='purple')\n",
        "axes[0,0].set_title('Training Accuracy Comparison')\n",
        "axes[0,0].set_xlabel('Epochs')\n",
        "axes[0,0].set_ylabel('Accuracy')\n",
        "axes[0,0].legend(fontsize=8)  # Smaller legend\n",
        "\n",
        "# Plot validation accuracy\n",
        "axes[0,1].plot(history_simple.history['val_accuracy'], label='Simple NN', color='red')\n",
        "axes[0,1].plot(history_opt1.history['val_accuracy'], label='Instance 2 (L2)', color='blue')\n",
        "axes[0,1].plot(history_opt2.history['val_accuracy'], label='Instance 3 (L1+BN)', color='green')\n",
        "axes[0,1].plot(history_opt3.history['val_accuracy'], label='Instance 4 (L1L2)', color='purple')\n",
        "axes[0,1].set_title('Validation Accuracy Comparison')\n",
        "axes[0,1].set_xlabel('Epochs')\n",
        "axes[0,1].set_ylabel('Accuracy')\n",
        "axes[0,1].legend(fontsize=8)\n",
        "\n",
        "# Plot training loss\n",
        "axes[1,0].plot(history_simple.history['loss'], label='Simple NN', color='red')\n",
        "axes[1,0].plot(history_opt1.history['loss'], label='Instance 2 (L2)', color='blue')\n",
        "axes[1,0].plot(history_opt2.history['loss'], label='Instance 3 (L1+BN)', color='green')\n",
        "axes[1,0].plot(history_opt3.history['loss'], label='Instance 4 (L1L2)', color='purple')\n",
        "axes[1,0].set_title('Training Loss Comparison')\n",
        "axes[1,0].set_xlabel('Epochs')\n",
        "axes[1,0].set_ylabel('Loss')\n",
        "axes[1,0].legend(fontsize=8)\n",
        "\n",
        "# Plot validation loss\n",
        "axes[1,1].plot(history_simple.history['val_loss'], label='Simple NN', color='red')\n",
        "axes[1,1].plot(history_opt1.history['val_loss'], label='Instance 2 (L2)', color='blue')\n",
        "axes[1,1].plot(history_opt2.history['val_loss'], label='Instance 3 (L1+BN)', color='green')\n",
        "axes[1,1].plot(history_opt3.history['val_loss'], label='Instance 4 (L1L2)', color='purple')\n",
        "axes[1,1].set_title('Validation Loss Comparison')\n",
        "axes[1,1].set_xlabel('Epochs')\n",
        "axes[1,1].set_ylabel('Loss')\n",
        "axes[1,1].legend(fontsize=8)\n",
        "\n",
        "plt.tight_layout()\n",
        "plt.savefig('training_comparison.png', dpi=150, bbox_inches='tight')  # Reduced DPI from 300 to 150\n",
        "plt.show()\n",
        "plt.close()  # Close figure to free memory\n",
        "\n",
        "# Performance comparison bar chart with reduced size\n",
        "models = ['Logistic Regression', 'Simple NN', 'Instance 2', 'Instance 3', 'Instance 4']\n",
        "f1_scores = [test_f1_lr, test_f1_simple, test_f1_opt1, test_f1_opt2, test_f1_opt3]\n",
        "accuracies = [test_acc_lr, test_acc_simple, test_acc_opt1, test_acc_opt2, test_acc_opt3]\n",
        "\n",
        "fig, (ax1, ax2) = plt.subplots(1, 2, figsize=(12, 5))  # Reduced from (15, 6)\n",
        "\n",
        "# F1 Score comparison\n",
        "bars1 = ax1.bar(models, f1_scores, color=['skyblue', 'lightcoral', 'lightgreen', 'gold', 'plum'])\n",
        "ax1.set_title('F1-Score Comparison Across Models')\n",
        "ax1.set_ylabel('F1-Score')\n",
        "ax1.set_ylim(0, 1)\n",
        "for i, v in enumerate(f1_scores):\n",
        "    ax1.text(i, v + 0.01, f'{v:.3f}', ha='center', va='bottom', fontsize=9)\n",
        "\n",
        "# Accuracy comparison\n",
        "bars2 = ax2.bar(models, accuracies, color=['skyblue', 'lightcoral', 'lightgreen', 'gold', 'plum'])\n",
        "ax2.set_title('Accuracy Comparison Across Models')\n",
        "ax2.set_ylabel('Accuracy')\n",
        "ax2.set_ylim(0, 1)\n",
        "for i, v in enumerate(accuracies):\n",
        "    ax2.text(i, v + 0.01, f'{v:.3f}', ha='center', va='bottom', fontsize=9)\n",
        "\n",
        "# Rotate x-axis labels for better readability\n",
        "plt.setp(ax1.get_xticklabels(), rotation=45, ha='right', fontsize=9)\n",
        "plt.setp(ax2.get_xticklabels(), rotation=45, ha='right', fontsize=9)\n",
        "\n",
        "plt.tight_layout()\n",
        "plt.savefig('model_comparison.png', dpi=150, bbox_inches='tight')  # Reduced DPI from 300 to 150\n",
        "plt.show()\n",
        "plt.close()  # Close figure to free memory\n",
        "\n",
        "# Create a simple summary table visualization\n",
        "print(\"\\nCreating summary metrics table...\")\n",
        "summary_data = {\n",
        "    'Model': models,\n",
        "    'F1-Score': [f'{score:.3f}' for score in f1_scores],\n",
        "    'Accuracy': [f'{score:.3f}' for score in accuracies]\n",
        "}\n",
        "\n",
        "summary_df = pd.DataFrame(summary_data)\n",
        "print(\"\\nModel Performance Summary:\")\n",
        "print(summary_df.to_string(index=False))\n",
        "\n",
        "# Find and highlight best performers\n",
        "best_f1_idx = np.argmax(f1_scores)\n",
        "best_acc_idx = np.argmax(accuracies)\n",
        "\n",
        "print(f\"\\nBest F1-Score: {models[best_f1_idx]} with {f1_scores[best_f1_idx]:.3f}\")\n",
        "print(f\"Best Accuracy: {models[best_acc_idx]} with {accuracies[best_acc_idx]:.3f}\")\n",
        "\n",
        "print(\"Visualizations saved as 'training_comparison.png' and 'model_comparison.png'\")\n",
        "print(\"Memory optimized by reducing DPI and figure sizes\")\n",
        "\n",
        "# Clear matplotlib cache to free memory\n",
        "plt.rcParams.update(plt.rcParamsDefault)\n",
        "gc.collect()"
      ],
      "metadata": {
        "colab": {
          "base_uri": "https://localhost:8080/",
          "height": 1000
        },
        "id": "gYFaRWTQAvEu",
        "outputId": "164a29ad-c486-4e5e-adf9-f8a235c1da7f"
      },
      "execution_count": 14,
      "outputs": [
        {
          "output_type": "stream",
          "name": "stdout",
          "text": [
            "VISUALIZATION AND FINAL PREDICTIONS\n",
            "==================================================\n"
          ]
        },
        {
          "output_type": "display_data",
          "data": {
            "text/plain": [
              "<Figure size 1200x800 with 4 Axes>"
            ],
            "image/png": "[encoded data removed]"
          },
          "metadata": {}
        },
        {
          "output_type": "display_data",
          "data": {
            "text/plain": [
              "<Figure size 1200x500 with 2 Axes>"
            ],
            "image/png": "[encoded data removed]"
          },
          "metadata": {}
        },
        {
          "output_type": "stream",
          "name": "stdout",
          "text": [
            "\n",
            "Creating summary metrics table...\n",
            "\n",
            "Model Performance Summary:\n",
            "              Model F1-Score Accuracy\n",
            "Logistic Regression    0.947    0.950\n",
            "          Simple NN    0.947    0.950\n",
            "         Instance 2    1.000    1.000\n",
            "         Instance 3    0.947    0.950\n",
            "         Instance 4    0.667    0.500\n",
            "\n",
            "Best F1-Score: Instance 2 with 1.000\n",
            "Best Accuracy: Instance 2 with 1.000\n",
            "Visualizations saved as 'training_comparison.png' and 'model_comparison.png'\n",
            "Memory optimized by reducing DPI and figure sizes\n"
          ]
        },
        {
          "output_type": "execute_result",
          "data": {
            "text/plain": [
              "8162"
            ]
          },
          "metadata": {},
          "execution_count": 14
        }
      ]
    },
    {
      "cell_type": "code",
      "source": [
        "# Cell 12: Final Model Selection and Testing\n",
        "print(\"FINAL MODEL SELECTION AND TESTING\")\n",
        "print(\"=\" * 50)\n",
        "\n",
        "# Determine the best model\n",
        "if test_f1_lr > max([test_f1_simple, test_f1_opt1, test_f1_opt2, test_f1_opt3]):\n",
        "    best_model_type = \"Classical ML\"\n",
        "    best_model = best_lr\n",
        "    best_f1 = test_f1_lr\n",
        "    print(f\"Best Model: Logistic Regression with F1-Score: {best_f1:.3f}\")\n",
        "else:\n",
        "    best_model_type = \"Neural Network\"\n",
        "    best_f1_scores = [test_f1_simple, test_f1_opt1, test_f1_opt2, test_f1_opt3]\n",
        "    best_nn_idx = np.argmax(best_f1_scores)\n",
        "    models_list = [model_simple, model_opt1, model_opt2, model_opt3]\n",
        "    best_model = models_list[best_nn_idx]\n",
        "    best_f1 = best_f1_scores[best_nn_idx]\n",
        "    instance_names = [\"Simple NN\", \"Instance 2\", \"Instance 3\", \"Instance 4\"]\n",
        "    print(f\"Best Model: {instance_names[best_nn_idx]} with F1-Score: {best_f1:.3f}\")\n",
        "\n",
        "# Make final predictions on test set\n",
        "print(f\"\\nFinal Test Set Predictions using {best_model_type}:\")\n",
        "\n",
        "if best_model_type == \"Classical ML\":\n",
        "    final_predictions = best_model.predict(X_test_scaled)\n",
        "    final_pred_proba = best_model.predict_proba(X_test_scaled)[:, 1]\n",
        "else:\n",
        "    # Get predictions for neural network\n",
        "    test_predictions = []\n",
        "    test_probabilities = []\n",
        "\n",
        "    for batch_X, batch_y in test_dataset:\n",
        "        batch_pred = best_model.predict(batch_X, verbose=0)\n",
        "        test_predictions.extend([1 if pred > 0.5 else 0 for pred in batch_pred])\n",
        "        test_probabilities.extend(batch_pred.flatten())\n",
        "\n",
        "    final_predictions = np.array(test_predictions)\n",
        "    final_pred_proba = np.array(test_probabilities)\n",
        "\n",
        "# Print detailed test results\n",
        "print(f\"\\nDetailed Test Set Results:\")\n",
        "print(f\"Total test samples: {len(y_test)}\")\n",
        "print(f\"True Positives (Dysarthric correctly identified): {np.sum((y_test == 1) & (final_predictions == 1))}\")\n",
        "print(f\"True Negatives (Control correctly identified): {np.sum((y_test == 0) & (final_predictions == 0))}\")\n",
        "print(f\"False Positives (Control misclassified as Dysarthric): {np.sum((y_test == 0) & (final_predictions == 1))}\")\n",
        "print(f\"False Negatives (Dysarthric misclassified as Control): {np.sum((y_test == 1) & (final_predictions == 0))}\")\n",
        "\n",
        "# Final classification report\n",
        "print(f\"\\nFinal Classification Report:\")\n",
        "print(classification_report(y_test, final_predictions, target_names=['Control', 'Dysarthric']))\n",
        "\n",
        "# Confusion Matrix\n",
        "cm_final = confusion_matrix(y_test, final_predictions)\n",
        "print(f\"\\nFinal Confusion Matrix:\")\n",
        "print(cm_final)\n",
        "\n",
        "# Plot confusion matrix\n",
        "plt.figure(figsize=(8, 6))\n",
        "plt.imshow(cm_final, interpolation='nearest', cmap=plt.cm.Blues)\n",
        "plt.title('Final Model Confusion Matrix')\n",
        "plt.colorbar()\n",
        "tick_marks = np.arange(2)\n",
        "plt.xticks(tick_marks, ['Control', 'Dysarthric'])\n",
        "plt.yticks(tick_marks, ['Control', 'Dysarthric'])\n",
        "\n",
        "# Add text annotations\n",
        "thresh = cm_final.max() / 2.\n",
        "for i, j in np.ndindex(cm_final.shape):\n",
        "    plt.text(j, i, format(cm_final[i, j], 'd'),\n",
        "             ha=\"center\", va=\"center\",\n",
        "             color=\"white\" if cm_final[i, j] > thresh else \"black\")\n",
        "\n",
        "plt.ylabel('True Label')\n",
        "plt.xlabel('Predicted Label')\n",
        "plt.tight_layout()\n",
        "plt.savefig('final_confusion_matrix.png', dpi=300, bbox_inches='tight')\n",
        "plt.show()\n",
        "\n",
        "print(f\"\\nProject completed successfully!\")\n",
        "print(f\"All models saved in 'saved_models/' directory\")\n",
        "print(f\"Results table saved as 'training_results_table.csv'\")\n",
        "print(f\"Best performing model: {best_model_type} with F1-Score: {best_f1:.3f}\")"
      ],
      "metadata": {
        "colab": {
          "base_uri": "https://localhost:8080/",
          "height": 1000
        },
        "id": "9RaKMZ64BCPm",
        "outputId": "99d7d59a-2d35-493f-f6f3-2298f5f8b9bf"
      },
      "execution_count": 15,
      "outputs": [
        {
          "output_type": "stream",
          "name": "stdout",
          "text": [
            "FINAL MODEL SELECTION AND TESTING\n",
            "==================================================\n",
            "Best Model: Instance 2 with F1-Score: 1.000\n",
            "\n",
            "Final Test Set Predictions using Neural Network:\n",
            "\n",
            "Detailed Test Set Results:\n",
            "Total test samples: 20\n",
            "True Positives (Dysarthric correctly identified): 10\n",
            "True Negatives (Control correctly identified): 10\n",
            "False Positives (Control misclassified as Dysarthric): 0\n",
            "False Negatives (Dysarthric misclassified as Control): 0\n",
            "\n",
            "Final Classification Report:\n",
            "              precision    recall  f1-score   support\n",
            "\n",
            "     Control       1.00      1.00      1.00        10\n",
            "  Dysarthric       1.00      1.00      1.00        10\n",
            "\n",
            "    accuracy                           1.00        20\n",
            "   macro avg       1.00      1.00      1.00        20\n",
            "weighted avg       1.00      1.00      1.00        20\n",
            "\n",
            "\n",
            "Final Confusion Matrix:\n",
            "[[10  0]\n",
            " [ 0 10]]\n"
          ]
        },
        {
          "output_type": "display_data",
          "data": {
            "text/plain": [
              "<Figure size 800x600 with 2 Axes>"
            ],
            "image/png": "[encoded data removed]"
          },
          "metadata": {}
        },
        {
          "output_type": "stream",
          "name": "stdout",
          "text": [
            "\n",
            "Project completed successfully!\n",
            "All models saved in 'saved_models/' directory\n",
            "Results table saved as 'training_results_table.csv'\n",
            "Best performing model: Neural Network with F1-Score: 1.000\n"
          ]
        }
      ]
    }
  ]
}